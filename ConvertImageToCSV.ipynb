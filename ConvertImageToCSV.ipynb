{
 "cells": [
  {
   "cell_type": "code",
   "execution_count": 2,
   "id": "e66196a6",
   "metadata": {},
   "outputs": [
    {
     "name": "stdout",
     "output_type": "stream",
     "text": [
      "Image shape: (853, 1280, 3)\n",
      "Reshaping to 2D array: (853, 3840)\n",
      "Image shape of loaded Image: (853, 1280, 3)\n",
      "\n",
      "\n",
      "Yes The loaded matrice from CSV file is same as original image matrice\n"
     ]
    }
   ],
   "source": [
    "import numpy as gfg\n",
    "import matplotlib.image as img\n",
    "  \n",
    "# read an image\n",
    "imageMat = img.imread('Faces.jpg')\n",
    "print(\"Image shape:\", imageMat.shape)\n",
    "  \n",
    "# if image is colored (RGB)\n",
    "if(imageMat.shape[2] == 3):\n",
    "    \n",
    "  # reshape it from 3D matrice to 2D matrice\n",
    "  imageMat_reshape = imageMat.reshape(imageMat.shape[0],\n",
    "                                      -1)\n",
    "  print(\"Reshaping to 2D array:\",\n",
    "        imageMat_reshape.shape)\n",
    "  \n",
    "# if image is grayscale\n",
    "else:\n",
    "  # remain as it is\n",
    "  imageMat_reshape = imageMat\n",
    "      \n",
    "# saving matrice to .csv file\n",
    "gfg.savetxt('Faces.csv',\n",
    "            imageMat_reshape)\n",
    "  \n",
    "# retrieving matrice from the .csv file\n",
    "loaded_2D_mat = gfg.loadtxt('Faces.csv')\n",
    "  \n",
    "# reshaping it to 3D matrice\n",
    "loaded_mat = loaded_2D_mat.reshape(loaded_2D_mat.shape[0], \n",
    "                                   loaded_2D_mat.shape[1] // imageMat.shape[2],\n",
    "                                   imageMat.shape[2])\n",
    "  \n",
    "print(\"Image shape of loaded Image:\", \n",
    "      loaded_mat.shape)\n",
    "  \n",
    "# check if both matrice have same shape or not\n",
    "if((imageMat == loaded_mat).all()):\n",
    "    \n",
    "  print(\"\\n\\nYes\",\n",
    "        \"The loaded matrice from CSV file is same as original image matrice\")"
   ]
  },
  {
   "cell_type": "code",
   "execution_count": null,
   "id": "ad804b6a",
   "metadata": {},
   "outputs": [],
   "source": []
  }
 ],
 "metadata": {
  "kernelspec": {
   "display_name": "Python 3",
   "language": "python",
   "name": "python3"
  },
  "language_info": {
   "codemirror_mode": {
    "name": "ipython",
    "version": 3
   },
   "file_extension": ".py",
   "mimetype": "text/x-python",
   "name": "python",
   "nbconvert_exporter": "python",
   "pygments_lexer": "ipython3",
   "version": "3.8.8"
  }
 },
 "nbformat": 4,
 "nbformat_minor": 5
}
