{
 "cells": [
  {
   "cell_type": "code",
   "execution_count": null,
   "id": "43166ebf",
   "metadata": {},
   "outputs": [],
   "source": [
    "from tensorflow import keras\n",
    "from tensorflow.keras.preprocessing.image import ImageDataGenerator,img_to_array\n",
    "from sklearn.preprocessing import LabelBinarizer #데이터 전처리용\n",
    "import tensorflow as tf\n",
    "import numpy as np\n",
    "from numpy import argmax\n",
    "import os\n",
    "import cv2 #이미지 읽기용\n",
    "import matplotlib.pyplot as plt\n",
    "from numpy import exp #Softmax출력용 "
   ]
  },
  {
   "cell_type": "code",
   "execution_count": null,
   "id": "a6c305b3",
   "metadata": {},
   "outputs": [],
   "source": [
    "#얼굴 인식 라이브러리(파일) 삽입\n",
    "face_cascade = cv2.CascadeClassifier('haarcascade_frontalface_default.xml')\n",
    "face_coordinate = []"
   ]
  },
  {
   "cell_type": "code",
   "execution_count": null,
   "id": "180e2ebe",
   "metadata": {},
   "outputs": [],
   "source": [
    "img = cv2.imread('Faces.jpg')\n",
    "gray = cv2.cvtColor(img, cv2.COLOR_BGR2GRAY)\n",
    "faces = face_cascade.detectMultiScale(gray, 1.3,5)\n",
    "count = 0 #반복 실행 시 덮어쓰도록 여기에 선언\n",
    "\n",
    "for (x,y,w,h) in faces: #좌표 값과 rectangular의 width height를 받게 된다.\n",
    "        # x,y값은 rectangular가 시작하는 지점의 좌표\n",
    "        # x, y값은 좌표값 w,h는 얼굴 높이 너비\n",
    "        # 원본 이미지에 얼굴의 위치를 표시하는 작업을 함.\n",
    "        # for문을 돌리는 이유는 여러 개가 검출 될 수 있기 때문.\n",
    "    face_coordinate_data = [x,y,w,h]\n",
    "    face_coordinate.append(face_coordinate_data)\n",
    "    print(face_coordinate[count])\n",
    "    \n",
    "    #image 좌표값대로 잘라서 따로 저장하는 부분\n",
    "    img_trim = img[y:y + h,x:x + w]  # trim한 결과를 img_trim에 담는다\n",
    "    cv2.imwrite('target_{}.jpg'.format(count),img_trim) #각 카운터에 맞는 이름으로 저장\n",
    "    count = count + 1\n",
    "\n",
    "    cv2.rectangle(img, (x,y), (x+w, y+h), (255,0,0),2) #얼굴에 사각형 프레임 씌우기\n",
    "    cv2.imwrite('resultimage.jpg', img) #각 카운터에 맞는 이름으로 저장\n",
    "    roi_gray = gray[y:y+h, x:x+w]\n",
    "    roi_color = img[y:y+h, x:x+w]"
   ]
  },
  {
   "cell_type": "code",
   "execution_count": null,
   "id": "780da144",
   "metadata": {},
   "outputs": [],
   "source": [
    "img.shape"
   ]
  },
  {
   "cell_type": "code",
   "execution_count": null,
   "id": "46ac6d28",
   "metadata": {},
   "outputs": [],
   "source": [
    "#분석 준비\n",
    "image_size=48\n",
    "labels=['neutral', 'fear', 'happy', 'sad', 'angry', 'surprise']\n",
    "analy_image=[]\n",
    "img_count = 0\n",
    "\n",
    "#데이터 전처리\n",
    "for index in faces:\n",
    "    image = cv2.imread(\"target_{}.jpg\".format(img_count)) #이미지 읽기\n",
    "    image = cv2.resize(image, (image_size,image_size)) #이미지 사이즈 편집\n",
    "    image = img_to_array(image) #이미지 배열화\n",
    "    print(image.shape)\n",
    "    analy_image.append(image)\n",
    "    img_count += 1"
   ]
  },
  {
   "cell_type": "code",
   "execution_count": null,
   "id": "6e23eb47",
   "metadata": {},
   "outputs": [],
   "source": [
    "analy_image = np.array(analy_image, dtype=\"float32\") / 255.0\n",
    "labels = np.array(labels)\n",
    "mlb = LabelBinarizer()\n",
    "labels = mlb.fit_transform(labels)"
   ]
  },
  {
   "cell_type": "code",
   "execution_count": null,
   "id": "c312007c",
   "metadata": {},
   "outputs": [],
   "source": [
    "model = keras.models.load_model('0530_adam_f32.h5')"
   ]
  },
  {
   "cell_type": "code",
   "execution_count": null,
   "id": "985dfe4f",
   "metadata": {
    "scrolled": true
   },
   "outputs": [],
   "source": [
    "image_predict = model.predict(analy_image) #사진 분석(개수 상관없음)"
   ]
  },
  {
   "cell_type": "code",
   "execution_count": null,
   "id": "0b93e75b",
   "metadata": {},
   "outputs": [],
   "source": [
    "print_count = 0\n",
    "result = []\n",
    "image_predict = np.round(image_predict, 2)\n",
    "for print_c in faces:\n",
    "    neutral = image_predict[print_count][0]*100\n",
    "    fear = image_predict[print_count][1]*100\n",
    "    happy = image_predict[print_count][2]*100\n",
    "    sad = image_predict[print_count][3]*100\n",
    "    angry = image_predict[print_count][4]*100\n",
    "    surprise = image_predict[print_count][5]*100\n",
    "    resultStr = \"[{}번째 사진] \\n neutral:{:.1f}%\\n fear:{:.1f}%\\n happy:{:.1f}\\n sad:{:.1f}%\\n angry:{:.1f}%\\n surprise:{:.1f}%\\n\\n\".format(print_count+1,\n",
    "                                                                                                                           neutral, fear,\n",
    "                                                                                                                           happy, sad,\n",
    "                                                                                                                           angry, surprise)\n",
    "    result.append(resultStr)\n",
    "    print(\"[{}번째 사진] \\n neutral:{:.1f}%\\n fear:{:.1f}%\\n happy:{:.1f}%\\n sad:{:.1f}%\\n angry:{:.1f}%\\n surprise:{:.1f}%\\n\\n\".format(print_count+1,\n",
    "                                                                                                                           neutral, fear,\n",
    "                                                                                                                           happy, sad,\n",
    "                                                                                                                           angry, surprise))\n",
    "    print_count += 1\n",
    "print_count = 0"
   ]
  },
  {
   "cell_type": "markdown",
   "id": "edc0d976",
   "metadata": {},
   "source": [
    "# 사진 범위와 분석 결과 전달"
   ]
  },
  {
   "cell_type": "code",
   "execution_count": null,
   "id": "fc49a57e",
   "metadata": {},
   "outputs": [],
   "source": [
    "import matplotlib.image as img"
   ]
  },
  {
   "cell_type": "code",
   "execution_count": null,
   "id": "a199c7eb",
   "metadata": {},
   "outputs": [],
   "source": [
    "image = img.imread('resultimage.jpg')\n",
    "plt.imshow(image)\n",
    "plt.show()"
   ]
  },
  {
   "cell_type": "code",
   "execution_count": null,
   "id": "7821839d",
   "metadata": {},
   "outputs": [],
   "source": []
  }
 ],
 "metadata": {
  "kernelspec": {
   "display_name": "Python 3",
   "language": "python",
   "name": "python3"
  },
  "language_info": {
   "codemirror_mode": {
    "name": "ipython",
    "version": 3
   },
   "file_extension": ".py",
   "mimetype": "text/x-python",
   "name": "python",
   "nbconvert_exporter": "python",
   "pygments_lexer": "ipython3",
   "version": "3.8.8"
  }
 },
 "nbformat": 4,
 "nbformat_minor": 5
}
