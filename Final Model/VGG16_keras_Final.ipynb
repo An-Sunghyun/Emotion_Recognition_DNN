{
 "cells": [
  {
   "cell_type": "code",
   "execution_count": 1,
   "id": "129b314f",
   "metadata": {},
   "outputs": [],
   "source": [
    "import tensorflow as tf\n",
    "\n",
    "import pandas as pd\n",
    "import numpy as np #데이터 배열화\n",
    "import os #경로 설정용 \n",
    "import keras #딥러닝용 패키지\n",
    "import random #데이터 분산할 때 쓸 랜덤\n",
    "import cv2 #이미지 읽기용\n",
    "import math #연산용\n",
    "import seaborn as sns #matplotlib에 다양한 시각화 기능이 추가된 패키지\n",
    "from sklearn.metrics import confusion_matrix #분류의 정확성 평가\n",
    "from sklearn.preprocessing import LabelBinarizer #데이터 전처리용\n",
    "from sklearn.model_selection import train_test_split #데이터 분할용\n",
    "\n",
    "import matplotlib.pyplot as plt #데이터 시각화용\n",
    "\n",
    "from tensorflow.keras.layers import Dense,GlobalAveragePooling2D,Convolution2D,BatchNormalization #사용할 BN, ConV2 등의 계층\n",
    "from tensorflow.keras.layers import Flatten,MaxPooling2D,Dropout #사용할 레이어\n",
    "\n",
    "from tensorflow.keras.applications import VGG16 \n",
    "from tensorflow.keras.applications.densenet import preprocess_input #tensor나 numpy배열 전처리용\n",
    "\n",
    "from tensorflow.keras.preprocessing import image #이미지 데이터를 실시간으로 처리하기 위한 도구\n",
    "from tensorflow.keras.preprocessing.image import ImageDataGenerator,img_to_array #이미지 편집을 위한 제너레이터(Affine Transform)\n",
    "\n",
    "from tensorflow.keras.models import Model #교육 및 추론 기능이 있는 개체로 레이어를 그룹화\n",
    "from keras.models import Sequential\n",
    "\n",
    "from tensorflow.keras.optimizers import Adam #Adam 옵티마이저 사용. loss는 categorical_crossentropy 사용\n",
    "\n",
    "#체크포인트를 두고 저장 + metric이 중지되면 학습률을 감소\n",
    "from tensorflow.keras.callbacks import ModelCheckpoint, ReduceLROnPlateau \n",
    "\n",
    "import warnings #경고 무시\n",
    "warnings.filterwarnings(\"ignore\")"
   ]
  },
  {
   "cell_type": "code",
   "execution_count": 2,
   "id": "76035574",
   "metadata": {},
   "outputs": [],
   "source": [
    "image_size=48"
   ]
  },
  {
   "cell_type": "code",
   "execution_count": 5,
   "id": "65af3d17",
   "metadata": {},
   "outputs": [
    {
     "name": "stdout",
     "output_type": "stream",
     "text": [
      "['neutral', 'fear', 'happy', 'sad', 'angry', 'surprise']\n"
     ]
    }
   ],
   "source": [
    "data=[]\n",
    "labels=[]\n",
    "random.seed(42)\n",
    "imagePaths = sorted(list(os.listdir(\"../jupyter/input/emotion-project-2/train/\")))\n",
    "random.shuffle(imagePaths)\n",
    "print(imagePaths)\n",
    "\n",
    "for img in imagePaths:\n",
    "    path=sorted(list(os.listdir(\"../jupyter/input/emotion-project-2/train/\"+img)))\n",
    "    for i in path:\n",
    "        image = cv2.imread(\"../jupyter/input/emotion-project-2/train/\"+img+'/'+i)\n",
    "        image = cv2.resize(image, (image_size,image_size))\n",
    "        image = img_to_array(image)\n",
    "        data.append(image)\n",
    "        l = label = img\n",
    "        labels.append(l)"
   ]
  },
  {
   "cell_type": "code",
   "execution_count": 6,
   "id": "3aeeea80",
   "metadata": {},
   "outputs": [
    {
     "name": "stdout",
     "output_type": "stream",
     "text": [
      "[0 0 0 1 0 0]\n"
     ]
    }
   ],
   "source": [
    "data = np.array(data, dtype=\"float32\") / 255.0\n",
    "labels = np.array(labels)\n",
    "mlb = LabelBinarizer()\n",
    "labels = mlb.fit_transform(labels)\n",
    "print(labels[0])"
   ]
  },
  {
   "cell_type": "code",
   "execution_count": 7,
   "id": "0ed31dd4",
   "metadata": {},
   "outputs": [
    {
     "name": "stdout",
     "output_type": "stream",
     "text": [
      "(50890, 48, 48, 3) (12723, 48, 48, 3)\n"
     ]
    }
   ],
   "source": [
    "(xtrain,xtest,ytrain,ytest)=train_test_split(data,labels,test_size=0.2,random_state=42)\n",
    "print(xtrain.shape, xtest.shape)"
   ]
  },
  {
   "cell_type": "code",
   "execution_count": 8,
   "id": "ae81a7dc",
   "metadata": {},
   "outputs": [],
   "source": [
    "datagen = ImageDataGenerator(zoom_range = 0.2, horizontal_flip=True, shear_range=0.2) #이미지 가공(학습률 향상을 위한 augmentation)\n",
    "datagen.fit(xtrain)"
   ]
  },
  {
   "cell_type": "code",
   "execution_count": 9,
   "id": "3ee0242f",
   "metadata": {},
   "outputs": [
    {
     "name": "stdout",
     "output_type": "stream",
     "text": [
      "Model: \"model\"\n",
      "_________________________________________________________________\n",
      "Layer (type)                 Output Shape              Param #   \n",
      "=================================================================\n",
      "input_1 (InputLayer)         [(None, 48, 48, 3)]       0         \n",
      "_________________________________________________________________\n",
      "block1_conv1 (Conv2D)        (None, 48, 48, 64)        1792      \n",
      "_________________________________________________________________\n",
      "block1_conv2 (Conv2D)        (None, 48, 48, 64)        36928     \n",
      "_________________________________________________________________\n",
      "block1_pool (MaxPooling2D)   (None, 24, 24, 64)        0         \n",
      "_________________________________________________________________\n",
      "block2_conv1 (Conv2D)        (None, 24, 24, 128)       73856     \n",
      "_________________________________________________________________\n",
      "block2_conv2 (Conv2D)        (None, 24, 24, 128)       147584    \n",
      "_________________________________________________________________\n",
      "block2_pool (MaxPooling2D)   (None, 12, 12, 128)       0         \n",
      "_________________________________________________________________\n",
      "block3_conv1 (Conv2D)        (None, 12, 12, 256)       295168    \n",
      "_________________________________________________________________\n",
      "block3_conv2 (Conv2D)        (None, 12, 12, 256)       590080    \n",
      "_________________________________________________________________\n",
      "block3_conv3 (Conv2D)        (None, 12, 12, 256)       590080    \n",
      "_________________________________________________________________\n",
      "block3_pool (MaxPooling2D)   (None, 6, 6, 256)         0         \n",
      "_________________________________________________________________\n",
      "block4_conv1 (Conv2D)        (None, 6, 6, 512)         1180160   \n",
      "_________________________________________________________________\n",
      "block4_conv2 (Conv2D)        (None, 6, 6, 512)         2359808   \n",
      "_________________________________________________________________\n",
      "block4_conv3 (Conv2D)        (None, 6, 6, 512)         2359808   \n",
      "_________________________________________________________________\n",
      "block4_pool (MaxPooling2D)   (None, 3, 3, 512)         0         \n",
      "_________________________________________________________________\n",
      "block5_conv1 (Conv2D)        (None, 3, 3, 512)         2359808   \n",
      "_________________________________________________________________\n",
      "block5_conv2 (Conv2D)        (None, 3, 3, 512)         2359808   \n",
      "_________________________________________________________________\n",
      "block5_conv3 (Conv2D)        (None, 3, 3, 512)         2359808   \n",
      "_________________________________________________________________\n",
      "block5_pool (MaxPooling2D)   (None, 1, 1, 512)         0         \n",
      "_________________________________________________________________\n",
      "flatten (Flatten)            (None, 512)               0         \n",
      "_________________________________________________________________\n",
      "dense (Dense)                (None, 512)               262656    \n",
      "_________________________________________________________________\n",
      "dropout (Dropout)            (None, 512)               0         \n",
      "_________________________________________________________________\n",
      "dense_1 (Dense)              (None, 512)               262656    \n",
      "_________________________________________________________________\n",
      "dropout_1 (Dropout)          (None, 512)               0         \n",
      "_________________________________________________________________\n",
      "dense_2 (Dense)              (None, 6)                 3078      \n",
      "=================================================================\n",
      "Total params: 15,243,078\n",
      "Trainable params: 15,243,078\n",
      "Non-trainable params: 0\n",
      "_________________________________________________________________\n"
     ]
    }
   ],
   "source": [
    "#dense relu문 추가, dropout 0.2로 변경\n",
    "\n",
    "model = VGG16(weights='imagenet', include_top=False, input_shape=(image_size, image_size, 3))\n",
    "x=Flatten()(model.output)\n",
    "x=Dense(512,activation='relu')(x)\n",
    "x=Dropout(0.2)(x)\n",
    "x=Dense(512,activation='relu')(x)\n",
    "x=Dropout(0.2)(x)\n",
    "output=Dense(6,activation='softmax')(x) # because we have to predict the AUC\n",
    "model=Model(model.input,output)\n",
    "\n",
    "model.compile(\n",
    "    optimizer = Adam(lr=0.0001), \n",
    "    loss='categorical_crossentropy', \n",
    "    metrics=['accuracy']\n",
    "  )\n",
    "\n",
    "model.summary()"
   ]
  },
  {
   "cell_type": "code",
   "execution_count": 10,
   "id": "403a43d1",
   "metadata": {
    "scrolled": false
   },
   "outputs": [
    {
     "name": "stdout",
     "output_type": "stream",
     "text": [
      "Epoch 1/70\n",
      "1591/1591 [==============================] - 60s 34ms/step - loss: 1.4524 - accuracy: 0.4095 - val_loss: 1.0554 - val_accuracy: 0.5965\n",
      "Epoch 2/70\n",
      "1591/1591 [==============================] - 48s 30ms/step - loss: 1.0664 - accuracy: 0.5928 - val_loss: 0.9643 - val_accuracy: 0.6413\n",
      "Epoch 3/70\n",
      "1591/1591 [==============================] - 54s 34ms/step - loss: 0.9421 - accuracy: 0.6498 - val_loss: 0.8991 - val_accuracy: 0.6644\n",
      "Epoch 4/70\n",
      "1591/1591 [==============================] - 49s 31ms/step - loss: 0.8611 - accuracy: 0.6825 - val_loss: 0.8408 - val_accuracy: 0.6888\n",
      "Epoch 5/70\n",
      "1591/1591 [==============================] - 49s 30ms/step - loss: 0.7839 - accuracy: 0.7118 - val_loss: 0.8393 - val_accuracy: 0.6918\n",
      "Epoch 6/70\n",
      "1591/1591 [==============================] - 49s 31ms/step - loss: 0.7076 - accuracy: 0.7416 - val_loss: 0.8046 - val_accuracy: 0.7085\n",
      "Epoch 7/70\n",
      "1591/1591 [==============================] - 49s 31ms/step - loss: 0.6414 - accuracy: 0.7692 - val_loss: 0.7431 - val_accuracy: 0.7398\n",
      "Epoch 8/70\n",
      "1591/1591 [==============================] - 48s 30ms/step - loss: 0.5838 - accuracy: 0.7935 - val_loss: 0.7039 - val_accuracy: 0.7585\n",
      "Epoch 9/70\n",
      "1591/1591 [==============================] - 48s 30ms/step - loss: 0.5193 - accuracy: 0.8173 - val_loss: 0.6651 - val_accuracy: 0.7739\n",
      "Epoch 10/70\n",
      "1591/1591 [==============================] - 53s 33ms/step - loss: 0.4627 - accuracy: 0.8399 - val_loss: 0.6624 - val_accuracy: 0.7813\n",
      "Epoch 11/70\n",
      "1591/1591 [==============================] - 49s 31ms/step - loss: 0.4103 - accuracy: 0.8598 - val_loss: 0.6449 - val_accuracy: 0.7875\n",
      "Epoch 12/70\n",
      "1591/1591 [==============================] - 49s 31ms/step - loss: 0.3763 - accuracy: 0.8731 - val_loss: 0.6143 - val_accuracy: 0.8033\n",
      "Epoch 13/70\n",
      "1591/1591 [==============================] - 52s 33ms/step - loss: 0.3416 - accuracy: 0.8843 - val_loss: 0.5776 - val_accuracy: 0.8176\n",
      "Epoch 14/70\n",
      "1591/1591 [==============================] - 48s 30ms/step - loss: 0.3002 - accuracy: 0.8994 - val_loss: 0.5909 - val_accuracy: 0.8208\n",
      "Epoch 15/70\n",
      "1591/1591 [==============================] - 48s 30ms/step - loss: 0.2813 - accuracy: 0.9057 - val_loss: 0.5823 - val_accuracy: 0.8242\n",
      "Epoch 16/70\n",
      "1591/1591 [==============================] - 47s 30ms/step - loss: 0.2527 - accuracy: 0.9159 - val_loss: 0.5421 - val_accuracy: 0.8437\n",
      "Epoch 17/70\n",
      "1591/1591 [==============================] - 48s 30ms/step - loss: 0.2382 - accuracy: 0.9202 - val_loss: 0.5589 - val_accuracy: 0.8441\n",
      "Epoch 18/70\n",
      "1591/1591 [==============================] - 49s 31ms/step - loss: 0.2232 - accuracy: 0.9260 - val_loss: 0.5551 - val_accuracy: 0.8443\n",
      "Epoch 19/70\n",
      "1591/1591 [==============================] - 48s 30ms/step - loss: 0.2088 - accuracy: 0.9304 - val_loss: 0.5716 - val_accuracy: 0.8470\n",
      "Epoch 20/70\n",
      "1591/1591 [==============================] - 48s 30ms/step - loss: 0.1897 - accuracy: 0.9370 - val_loss: 0.5240 - val_accuracy: 0.8594\n",
      "Epoch 21/70\n",
      "1591/1591 [==============================] - 47s 29ms/step - loss: 0.1878 - accuracy: 0.9371 - val_loss: 0.5470 - val_accuracy: 0.8571\n",
      "Epoch 22/70\n",
      "1591/1591 [==============================] - 48s 30ms/step - loss: 0.1754 - accuracy: 0.9419 - val_loss: 0.5494 - val_accuracy: 0.8599\n",
      "Epoch 23/70\n",
      "1591/1591 [==============================] - 49s 31ms/step - loss: 0.1616 - accuracy: 0.9457 - val_loss: 0.5070 - val_accuracy: 0.8660\n",
      "Epoch 24/70\n",
      "1591/1591 [==============================] - 49s 31ms/step - loss: 0.1540 - accuracy: 0.9485 - val_loss: 0.5677 - val_accuracy: 0.8617\n",
      "Epoch 25/70\n",
      "1591/1591 [==============================] - 49s 31ms/step - loss: 0.1532 - accuracy: 0.9466 - val_loss: 0.5250 - val_accuracy: 0.8702\n",
      "Epoch 26/70\n",
      "1591/1591 [==============================] - 69s 43ms/step - loss: 0.1485 - accuracy: 0.9503 - val_loss: 0.5206 - val_accuracy: 0.8694\n",
      "Epoch 27/70\n",
      "1591/1591 [==============================] - 192s 121ms/step - loss: 0.1399 - accuracy: 0.9510 - val_loss: 0.5716 - val_accuracy: 0.8562\n",
      "Epoch 28/70\n",
      "1591/1591 [==============================] - 129s 81ms/step - loss: 0.1403 - accuracy: 0.9529 - val_loss: 0.5402 - val_accuracy: 0.8657\n",
      "Epoch 29/70\n",
      "1591/1591 [==============================] - 139s 87ms/step - loss: 0.1268 - accuracy: 0.9565 - val_loss: 0.5345 - val_accuracy: 0.8697\n",
      "Epoch 30/70\n",
      "1591/1591 [==============================] - 116s 73ms/step - loss: 0.1275 - accuracy: 0.9567 - val_loss: 0.5515 - val_accuracy: 0.8716\n",
      "Epoch 31/70\n",
      "1591/1591 [==============================] - 98s 62ms/step - loss: 0.1217 - accuracy: 0.9596 - val_loss: 0.5434 - val_accuracy: 0.8719\n",
      "Epoch 32/70\n",
      "1591/1591 [==============================] - 243s 153ms/step - loss: 0.1149 - accuracy: 0.9605 - val_loss: 0.5457 - val_accuracy: 0.8777\n",
      "Epoch 33/70\n",
      "1591/1591 [==============================] - 323s 203ms/step - loss: 0.1158 - accuracy: 0.9618 - val_loss: 0.5440 - val_accuracy: 0.8790\n",
      "Epoch 34/70\n",
      "1591/1591 [==============================] - 339s 213ms/step - loss: 0.1089 - accuracy: 0.9637 - val_loss: 0.5709 - val_accuracy: 0.8795\n",
      "Epoch 35/70\n",
      "1591/1591 [==============================] - 264s 166ms/step - loss: 0.1089 - accuracy: 0.9625 - val_loss: 0.5299 - val_accuracy: 0.8797\n",
      "Epoch 36/70\n",
      "1591/1591 [==============================] - 346s 217ms/step - loss: 0.1026 - accuracy: 0.9651 - val_loss: 0.5864 - val_accuracy: 0.8772\n",
      "Epoch 37/70\n",
      "1591/1591 [==============================] - 371s 233ms/step - loss: 0.1036 - accuracy: 0.9649 - val_loss: 0.5583 - val_accuracy: 0.8779\n",
      "Epoch 38/70\n",
      "1591/1591 [==============================] - 372s 234ms/step - loss: 0.1006 - accuracy: 0.9648 - val_loss: 0.5868 - val_accuracy: 0.8808\n",
      "Epoch 39/70\n",
      "1591/1591 [==============================] - 325s 205ms/step - loss: 0.0975 - accuracy: 0.9676 - val_loss: 0.5323 - val_accuracy: 0.8844\n",
      "Epoch 40/70\n",
      "1591/1591 [==============================] - 363s 228ms/step - loss: 0.0982 - accuracy: 0.9660 - val_loss: 0.5083 - val_accuracy: 0.8812\n",
      "Epoch 41/70\n",
      "1591/1591 [==============================] - 391s 246ms/step - loss: 0.0977 - accuracy: 0.9661 - val_loss: 0.5550 - val_accuracy: 0.8780\n",
      "Epoch 42/70\n",
      "1591/1591 [==============================] - 387s 243ms/step - loss: 0.0950 - accuracy: 0.9677 - val_loss: 0.5501 - val_accuracy: 0.8842\n",
      "Epoch 43/70\n",
      "1591/1591 [==============================] - 385s 242ms/step - loss: 0.0972 - accuracy: 0.9655 - val_loss: 0.5440 - val_accuracy: 0.8864\n",
      "Epoch 44/70\n",
      "1591/1591 [==============================] - 390s 245ms/step - loss: 0.0882 - accuracy: 0.9695 - val_loss: 0.5746 - val_accuracy: 0.8787\n",
      "Epoch 45/70\n",
      "1591/1591 [==============================] - 385s 242ms/step - loss: 0.0857 - accuracy: 0.9700 - val_loss: 0.6059 - val_accuracy: 0.8829\n",
      "Epoch 46/70\n",
      "1591/1591 [==============================] - 392s 246ms/step - loss: 0.0857 - accuracy: 0.9702 - val_loss: 0.6127 - val_accuracy: 0.8768\n",
      "Epoch 47/70\n",
      "1591/1591 [==============================] - 285s 179ms/step - loss: 0.0873 - accuracy: 0.9686 - val_loss: 0.6440 - val_accuracy: 0.8868\n",
      "Epoch 48/70\n",
      "1591/1591 [==============================] - 264s 166ms/step - loss: 0.0849 - accuracy: 0.9701 - val_loss: 0.6175 - val_accuracy: 0.8861\n",
      "Epoch 49/70\n",
      "1591/1591 [==============================] - 259s 163ms/step - loss: 0.0892 - accuracy: 0.9686 - val_loss: 0.6045 - val_accuracy: 0.8836\n",
      "Epoch 50/70\n",
      "1591/1591 [==============================] - 268s 168ms/step - loss: 0.0808 - accuracy: 0.9710 - val_loss: 0.5849 - val_accuracy: 0.8840\n",
      "Epoch 51/70\n",
      "1591/1591 [==============================] - 359s 226ms/step - loss: 0.0767 - accuracy: 0.9734 - val_loss: 0.5519 - val_accuracy: 0.8842\n",
      "Epoch 52/70\n",
      "1591/1591 [==============================] - 357s 224ms/step - loss: 0.0824 - accuracy: 0.9715 - val_loss: 0.6534 - val_accuracy: 0.8838\n",
      "Epoch 53/70\n",
      "1591/1591 [==============================] - 362s 228ms/step - loss: 0.0776 - accuracy: 0.9726 - val_loss: 0.6287 - val_accuracy: 0.8812\n",
      "Epoch 54/70\n",
      "1591/1591 [==============================] - 303s 190ms/step - loss: 0.0752 - accuracy: 0.9732 - val_loss: 0.5929 - val_accuracy: 0.8839\n",
      "Epoch 55/70\n",
      "1591/1591 [==============================] - 319s 201ms/step - loss: 0.0802 - accuracy: 0.9718 - val_loss: 0.6193 - val_accuracy: 0.8858\n",
      "Epoch 56/70\n"
     ]
    },
    {
     "name": "stdout",
     "output_type": "stream",
     "text": [
      "1591/1591 [==============================] - 318s 200ms/step - loss: 0.0777 - accuracy: 0.9732 - val_loss: 0.6506 - val_accuracy: 0.8804\n",
      "Epoch 57/70\n",
      "1591/1591 [==============================] - 327s 206ms/step - loss: 0.0805 - accuracy: 0.9719 - val_loss: 0.6528 - val_accuracy: 0.8835\n",
      "Epoch 58/70\n",
      "1591/1591 [==============================] - 334s 210ms/step - loss: 0.0719 - accuracy: 0.9741 - val_loss: 0.6216 - val_accuracy: 0.8812\n",
      "Epoch 59/70\n",
      "1591/1591 [==============================] - 393s 247ms/step - loss: 0.0756 - accuracy: 0.9738 - val_loss: 0.6864 - val_accuracy: 0.8754\n",
      "Epoch 60/70\n",
      "1591/1591 [==============================] - 377s 237ms/step - loss: 0.0733 - accuracy: 0.9741 - val_loss: 0.6444 - val_accuracy: 0.8888\n",
      "Epoch 61/70\n",
      "1591/1591 [==============================] - 394s 247ms/step - loss: 0.0710 - accuracy: 0.9746 - val_loss: 0.6880 - val_accuracy: 0.8671\n",
      "Epoch 62/70\n",
      "1591/1591 [==============================] - 375s 236ms/step - loss: 0.0692 - accuracy: 0.9759 - val_loss: 0.6401 - val_accuracy: 0.8801\n",
      "Epoch 63/70\n",
      "1591/1591 [==============================] - 366s 230ms/step - loss: 0.0683 - accuracy: 0.9758 - val_loss: 0.6386 - val_accuracy: 0.8875\n",
      "Epoch 64/70\n",
      "1591/1591 [==============================] - 374s 235ms/step - loss: 0.0688 - accuracy: 0.9763 - val_loss: 0.6664 - val_accuracy: 0.8853\n",
      "Epoch 65/70\n",
      "1591/1591 [==============================] - 359s 226ms/step - loss: 0.0683 - accuracy: 0.9763 - val_loss: 0.6478 - val_accuracy: 0.8859\n",
      "Epoch 66/70\n",
      "1591/1591 [==============================] - 391s 245ms/step - loss: 0.0643 - accuracy: 0.9769 - val_loss: 0.6758 - val_accuracy: 0.8852\n",
      "Epoch 67/70\n",
      "1591/1591 [==============================] - 391s 246ms/step - loss: 0.0601 - accuracy: 0.9785 - val_loss: 0.6945 - val_accuracy: 0.8739\n",
      "Epoch 68/70\n",
      "1591/1591 [==============================] - 382s 240ms/step - loss: 0.0667 - accuracy: 0.9763 - val_loss: 0.7019 - val_accuracy: 0.8848\n",
      "Epoch 69/70\n",
      "1591/1591 [==============================] - 384s 241ms/step - loss: 0.0650 - accuracy: 0.9766 - val_loss: 0.6236 - val_accuracy: 0.8907\n",
      "Epoch 70/70\n",
      "1591/1591 [==============================] - 373s 234ms/step - loss: 0.0699 - accuracy: 0.9757 - val_loss: 0.7063 - val_accuracy: 0.8902\n"
     ]
    }
   ],
   "source": [
    "history = model.fit(datagen.flow(xtrain, ytrain, batch_size=32),\n",
    "               epochs=70,\n",
    "               validation_data=(xtest, ytest))"
   ]
  },
  {
   "cell_type": "code",
   "execution_count": 11,
   "id": "7b97218e",
   "metadata": {},
   "outputs": [
    {
     "name": "stdout",
     "output_type": "stream",
     "text": [
      "398/398 [==============================] - 26s 65ms/step - loss: 0.7063 - accuracy: 0.8902\n"
     ]
    },
    {
     "data": {
      "text/plain": [
       "[0.7063219547271729, 0.890198826789856]"
      ]
     },
     "execution_count": 11,
     "metadata": {},
     "output_type": "execute_result"
    }
   ],
   "source": [
    "model.evaluate(xtest, ytest, batch_size = 32)"
   ]
  },
  {
   "cell_type": "code",
   "execution_count": 12,
   "id": "4199cd00",
   "metadata": {},
   "outputs": [
    {
     "name": "stdout",
     "output_type": "stream",
     "text": [
      "1591/1591 [==============================] - 105s 66ms/step - loss: 0.0366 - accuracy: 0.9864\n"
     ]
    },
    {
     "data": {
      "text/plain": [
       "[0.03659828379750252, 0.9863823652267456]"
      ]
     },
     "execution_count": 12,
     "metadata": {},
     "output_type": "execute_result"
    }
   ],
   "source": [
    "model.evaluate(xtrain, ytrain, batch_size = 32)"
   ]
  },
  {
   "cell_type": "code",
   "execution_count": 13,
   "id": "a88e9c4d",
   "metadata": {},
   "outputs": [],
   "source": [
    "model.save('0530_adam_f32.h5')"
   ]
  },
  {
   "cell_type": "code",
   "execution_count": 14,
   "id": "9cfe4b30",
   "metadata": {},
   "outputs": [
    {
     "data": {
      "image/png": "[encoded data removed]",
      "text/plain": [
       "<Figure size 432x288 with 1 Axes>"
      ]
     },
     "metadata": {
      "needs_background": "light"
     },
     "output_type": "display_data"
    },
    {
     "data": {
      "image/png": "[encoded data removed]",
      "text/plain": [
       "<Figure size 432x288 with 1 Axes>"
      ]
     },
     "metadata": {
      "needs_background": "light"
     },
     "output_type": "display_data"
    }
   ],
   "source": [
    "plt.plot(history.history['accuracy'])\n",
    "plt.plot(history.history['val_accuracy'])\n",
    "plt.title('model accuracy')\n",
    "plt.ylabel('accuracy')\n",
    "plt.xlabel('epoch')\n",
    "plt.legend(['train', 'test'], loc='upper left')\n",
    "plt.show()\n",
    "# summarize history for loss\n",
    "plt.plot(history.history['loss'])\n",
    "plt.plot(history.history['val_loss'])\n",
    "plt.title('model loss')\n",
    "plt.ylabel('loss')\n",
    "plt.xlabel('epoch')\n",
    "plt.legend(['train', 'test'], loc='upper left')\n",
    "plt.show()"
   ]
  },
  {
   "cell_type": "code",
   "execution_count": 15,
   "id": "2c9fbe50",
   "metadata": {},
   "outputs": [
    {
     "data": {
      "text/plain": [
       "<Figure size 432x288 with 0 Axes>"
      ]
     },
     "metadata": {},
     "output_type": "display_data"
    }
   ],
   "source": [
    "plt.savefig('save.png')"
   ]
  },
  {
   "cell_type": "code",
   "execution_count": 17,
   "id": "8cb22de8",
   "metadata": {},
   "outputs": [
    {
     "data": {
      "image/png": "[encoded data removed]",
      "text/plain": [
       "<Figure size 432x288 with 1 Axes>"
      ]
     },
     "metadata": {
      "needs_background": "light"
     },
     "output_type": "display_data"
    },
    {
     "data": {
      "text/plain": [
       "<Figure size 432x288 with 0 Axes>"
      ]
     },
     "metadata": {},
     "output_type": "display_data"
    }
   ],
   "source": [
    "plt.plot(history.history[\"accuracy\"])\n",
    "plt.plot(history.history[\"val_accuracy\"])\n",
    "plt.title(\"model accuracy\")\n",
    "plt.ylabel(\"accuracy\")\n",
    "plt.xlabel(\"epoch\")\n",
    "plt.legend([\"train\", \"validation\"], loc=\"upper left\")\n",
    "plt.show()\n",
    "plt.savefig('save2.png')"
   ]
  },
  {
   "cell_type": "code",
   "execution_count": null,
   "id": "217aa363",
   "metadata": {},
   "outputs": [],
   "source": []
  }
 ],
 "metadata": {
  "kernelspec": {
   "display_name": "Python 3",
   "language": "python",
   "name": "python3"
  },
  "language_info": {
   "codemirror_mode": {
    "name": "ipython",
    "version": 3
   },
   "file_extension": ".py",
   "mimetype": "text/x-python",
   "name": "python",
   "nbconvert_exporter": "python",
   "pygments_lexer": "ipython3",
   "version": "3.8.8"
  }
 },
 "nbformat": 4,
 "nbformat_minor": 5
}
