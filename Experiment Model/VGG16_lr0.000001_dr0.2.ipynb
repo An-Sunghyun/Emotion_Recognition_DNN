{
 "cells": [
  {
   "cell_type": "code",
   "execution_count": 1,
   "id": "24ddaa00",
   "metadata": {},
   "outputs": [],
   "source": [
    "import tensorflow as tf\n",
    "\n",
    "import pandas as pd\n",
    "import numpy as np #데이터 배열화\n",
    "import os #경로 설정용 \n",
    "import keras #딥러닝용 패키지\n",
    "import random #데이터 분산할 때 쓸 랜덤\n",
    "import cv2 #이미지 읽기용\n",
    "import math #연산용\n",
    "import seaborn as sns #matplotlib에 다양한 시각화 기능이 추가된 패키지\n",
    "from sklearn.metrics import confusion_matrix #분류의 정확성 평가\n",
    "from sklearn.preprocessing import LabelBinarizer #데이터 전처리용\n",
    "from sklearn.model_selection import train_test_split #데이터 분할용\n",
    "\n",
    "import matplotlib.pyplot as plt #데이터 시각화용\n",
    "\n",
    "from tensorflow.keras.layers import Dense,GlobalAveragePooling2D,Convolution2D,BatchNormalization #사용할 BN, ConV2 등의 계층\n",
    "from tensorflow.keras.layers import Flatten,MaxPooling2D,Dropout #사용할 레이어\n",
    "\n",
    "from tensorflow.keras.applications import VGG16 \n",
    "from tensorflow.keras.applications.densenet import preprocess_input #tensor나 numpy배열 전처리용\n",
    "\n",
    "from tensorflow.keras.preprocessing import image #이미지 데이터를 실시간으로 처리하기 위한 도구\n",
    "from tensorflow.keras.preprocessing.image import ImageDataGenerator,img_to_array #이미지 편집을 위한 제너레이터(Affine Transform)\n",
    "\n",
    "from tensorflow.keras.models import Model #교육 및 추론 기능이 있는 개체로 레이어를 그룹화\n",
    "from keras.models import Sequential\n",
    "\n",
    "from tensorflow.keras.optimizers import Adam #Adam 옵티마이저 사용. loss는 categorical_crossentropy 사용\n",
    "\n",
    "#체크포인트를 두고 저장 + metric이 중지되면 학습률을 감소\n",
    "from tensorflow.keras.callbacks import ModelCheckpoint, ReduceLROnPlateau \n",
    "\n",
    "import warnings #경고 무시\n",
    "warnings.filterwarnings(\"ignore\")"
   ]
  },
  {
   "cell_type": "code",
   "execution_count": 2,
   "id": "16346760",
   "metadata": {},
   "outputs": [],
   "source": [
    "image_size=48"
   ]
  },
  {
   "cell_type": "code",
   "execution_count": 3,
   "id": "26f204f5",
   "metadata": {},
   "outputs": [
    {
     "name": "stdout",
     "output_type": "stream",
     "text": [
      "['neutral', 'fearful', 'happy', 'sad', 'angry', 'surprised']\n"
     ]
    }
   ],
   "source": [
    "data=[]\n",
    "labels=[]\n",
    "random.seed(42)\n",
    "imagePaths = sorted(list(os.listdir(\"emotion_FixedVer/\")))\n",
    "random.shuffle(imagePaths)\n",
    "print(imagePaths)\n",
    "\n",
    "for img in imagePaths:\n",
    "    path=sorted(list(os.listdir(\"emotion_FixedVer/\"+img)))\n",
    "    for i in path:\n",
    "        image = cv2.imread(\"emotion_FixedVer/\"+img+'/'+i)\n",
    "        image = cv2.resize(image, (image_size,image_size))\n",
    "        image = img_to_array(image)\n",
    "        data.append(image)\n",
    "        l = label = img\n",
    "        labels.append(l)"
   ]
  },
  {
   "cell_type": "code",
   "execution_count": 4,
   "id": "5d918663",
   "metadata": {},
   "outputs": [
    {
     "name": "stdout",
     "output_type": "stream",
     "text": [
      "[0 0 0 1 0 0]\n"
     ]
    }
   ],
   "source": [
    "data = np.array(data, dtype=\"float32\") / 255.0\n",
    "labels = np.array(labels)\n",
    "mlb = LabelBinarizer()\n",
    "labels = mlb.fit_transform(labels)\n",
    "print(labels[0])"
   ]
  },
  {
   "cell_type": "code",
   "execution_count": 5,
   "id": "8a850fe1",
   "metadata": {},
   "outputs": [
    {
     "name": "stdout",
     "output_type": "stream",
     "text": [
      "(22294, 48, 48, 3) (5574, 48, 48, 3)\n"
     ]
    }
   ],
   "source": [
    "(xtrain,xtest,ytrain,ytest)=train_test_split(data,labels,test_size=0.2,random_state=42)\n",
    "print(xtrain.shape, xtest.shape)"
   ]
  },
  {
   "cell_type": "code",
   "execution_count": 6,
   "id": "a79604a7",
   "metadata": {},
   "outputs": [],
   "source": [
    "datagen = ImageDataGenerator(zoom_range = 0.2, horizontal_flip=True, shear_range=0.2) #이미지 가공(학습률 향상을 위한 augmentation)\n",
    "datagen.fit(xtrain)"
   ]
  },
  {
   "cell_type": "code",
   "execution_count": 7,
   "id": "3b74d0f4",
   "metadata": {},
   "outputs": [
    {
     "name": "stdout",
     "output_type": "stream",
     "text": [
      "Model: \"model\"\n",
      "_________________________________________________________________\n",
      "Layer (type)                 Output Shape              Param #   \n",
      "=================================================================\n",
      "input_1 (InputLayer)         [(None, 48, 48, 3)]       0         \n",
      "_________________________________________________________________\n",
      "block1_conv1 (Conv2D)        (None, 48, 48, 64)        1792      \n",
      "_________________________________________________________________\n",
      "block1_conv2 (Conv2D)        (None, 48, 48, 64)        36928     \n",
      "_________________________________________________________________\n",
      "block1_pool (MaxPooling2D)   (None, 24, 24, 64)        0         \n",
      "_________________________________________________________________\n",
      "block2_conv1 (Conv2D)        (None, 24, 24, 128)       73856     \n",
      "_________________________________________________________________\n",
      "block2_conv2 (Conv2D)        (None, 24, 24, 128)       147584    \n",
      "_________________________________________________________________\n",
      "block2_pool (MaxPooling2D)   (None, 12, 12, 128)       0         \n",
      "_________________________________________________________________\n",
      "block3_conv1 (Conv2D)        (None, 12, 12, 256)       295168    \n",
      "_________________________________________________________________\n",
      "block3_conv2 (Conv2D)        (None, 12, 12, 256)       590080    \n",
      "_________________________________________________________________\n",
      "block3_conv3 (Conv2D)        (None, 12, 12, 256)       590080    \n",
      "_________________________________________________________________\n",
      "block3_pool (MaxPooling2D)   (None, 6, 6, 256)         0         \n",
      "_________________________________________________________________\n",
      "block4_conv1 (Conv2D)        (None, 6, 6, 512)         1180160   \n",
      "_________________________________________________________________\n",
      "block4_conv2 (Conv2D)        (None, 6, 6, 512)         2359808   \n",
      "_________________________________________________________________\n",
      "block4_conv3 (Conv2D)        (None, 6, 6, 512)         2359808   \n",
      "_________________________________________________________________\n",
      "block4_pool (MaxPooling2D)   (None, 3, 3, 512)         0         \n",
      "_________________________________________________________________\n",
      "block5_conv1 (Conv2D)        (None, 3, 3, 512)         2359808   \n",
      "_________________________________________________________________\n",
      "block5_conv2 (Conv2D)        (None, 3, 3, 512)         2359808   \n",
      "_________________________________________________________________\n",
      "block5_conv3 (Conv2D)        (None, 3, 3, 512)         2359808   \n",
      "_________________________________________________________________\n",
      "block5_pool (MaxPooling2D)   (None, 1, 1, 512)         0         \n",
      "_________________________________________________________________\n",
      "flatten (Flatten)            (None, 512)               0         \n",
      "_________________________________________________________________\n",
      "dense (Dense)                (None, 512)               262656    \n",
      "_________________________________________________________________\n",
      "dropout (Dropout)            (None, 512)               0         \n",
      "_________________________________________________________________\n",
      "dense_1 (Dense)              (None, 6)                 3078      \n",
      "=================================================================\n",
      "Total params: 14,980,422\n",
      "Trainable params: 14,980,422\n",
      "Non-trainable params: 0\n",
      "_________________________________________________________________\n"
     ]
    }
   ],
   "source": [
    "from tensorflow.keras.optimizers import Adam\n",
    "\n",
    "model = VGG16(weights='imagenet', include_top=False, input_shape=(image_size, image_size, 3))\n",
    "x=Flatten()(model.output)\n",
    "x=Dense(512,activation='relu')(x)\n",
    "x=Dropout(0.2)(x)\n",
    "output=Dense(6,activation='softmax')(x) # because we have to predict the AUC\n",
    "model=Model(model.input,output)\n",
    "\n",
    "model.compile(\n",
    "    optimizer = Adam(lr=0.000001), \n",
    "    loss='categorical_crossentropy', \n",
    "    metrics=['accuracy']\n",
    "  )\n",
    "\n",
    "model.summary()"
   ]
  },
  {
   "cell_type": "code",
   "execution_count": 8,
   "id": "fc0fb722",
   "metadata": {},
   "outputs": [
    {
     "name": "stdout",
     "output_type": "stream",
     "text": [
      "Epoch 1/100\n",
      "697/697 [==============================] - 37s 48ms/step - loss: 1.7592 - accuracy: 0.2498 - val_loss: 1.6192 - val_accuracy: 0.3407\n",
      "Epoch 2/100\n",
      "697/697 [==============================] - 32s 46ms/step - loss: 1.6042 - accuracy: 0.3507 - val_loss: 1.4910 - val_accuracy: 0.4151\n",
      "Epoch 3/100\n",
      "697/697 [==============================] - 32s 47ms/step - loss: 1.5062 - accuracy: 0.4024 - val_loss: 1.4207 - val_accuracy: 0.4408\n",
      "Epoch 4/100\n",
      "697/697 [==============================] - 32s 46ms/step - loss: 1.4388 - accuracy: 0.4316 - val_loss: 1.3510 - val_accuracy: 0.4727\n",
      "Epoch 5/100\n",
      "697/697 [==============================] - 32s 46ms/step - loss: 1.3883 - accuracy: 0.4568 - val_loss: 1.3205 - val_accuracy: 0.4810\n",
      "Epoch 6/100\n",
      "697/697 [==============================] - 33s 47ms/step - loss: 1.3483 - accuracy: 0.4739 - val_loss: 1.2758 - val_accuracy: 0.5047\n",
      "Epoch 7/100\n",
      "697/697 [==============================] - 32s 47ms/step - loss: 1.3182 - accuracy: 0.4846 - val_loss: 1.2533 - val_accuracy: 0.5144\n",
      "Epoch 8/100\n",
      "697/697 [==============================] - 33s 47ms/step - loss: 1.2904 - accuracy: 0.4981 - val_loss: 1.2304 - val_accuracy: 0.5233\n",
      "Epoch 9/100\n",
      "697/697 [==============================] - 33s 47ms/step - loss: 1.2693 - accuracy: 0.5087 - val_loss: 1.2148 - val_accuracy: 0.5292\n",
      "Epoch 10/100\n",
      "697/697 [==============================] - 33s 47ms/step - loss: 1.2497 - accuracy: 0.5158 - val_loss: 1.2031 - val_accuracy: 0.5309\n",
      "Epoch 11/100\n",
      "697/697 [==============================] - 33s 47ms/step - loss: 1.2332 - accuracy: 0.5196 - val_loss: 1.1791 - val_accuracy: 0.5407\n",
      "Epoch 12/100\n",
      "697/697 [==============================] - 33s 47ms/step - loss: 1.2157 - accuracy: 0.5294 - val_loss: 1.1851 - val_accuracy: 0.5391\n",
      "Epoch 13/100\n",
      "697/697 [==============================] - 33s 47ms/step - loss: 1.2007 - accuracy: 0.5361 - val_loss: 1.1710 - val_accuracy: 0.5413\n",
      "Epoch 14/100\n",
      "697/697 [==============================] - 33s 47ms/step - loss: 1.1843 - accuracy: 0.5439 - val_loss: 1.1533 - val_accuracy: 0.5540\n",
      "Epoch 15/100\n",
      "697/697 [==============================] - 33s 47ms/step - loss: 1.1695 - accuracy: 0.5505 - val_loss: 1.1478 - val_accuracy: 0.5549\n",
      "Epoch 16/100\n",
      "697/697 [==============================] - 33s 47ms/step - loss: 1.1618 - accuracy: 0.5521 - val_loss: 1.1474 - val_accuracy: 0.5558\n",
      "Epoch 17/100\n",
      "697/697 [==============================] - 33s 47ms/step - loss: 1.1537 - accuracy: 0.5556 - val_loss: 1.1306 - val_accuracy: 0.5640\n",
      "Epoch 18/100\n",
      "697/697 [==============================] - 33s 47ms/step - loss: 1.1391 - accuracy: 0.5659 - val_loss: 1.1249 - val_accuracy: 0.5662\n",
      "Epoch 19/100\n",
      "697/697 [==============================] - 33s 47ms/step - loss: 1.1313 - accuracy: 0.5655 - val_loss: 1.1267 - val_accuracy: 0.5676\n",
      "Epoch 20/100\n",
      "697/697 [==============================] - 33s 47ms/step - loss: 1.1246 - accuracy: 0.5678 - val_loss: 1.1153 - val_accuracy: 0.5757\n",
      "Epoch 21/100\n",
      "697/697 [==============================] - 33s 47ms/step - loss: 1.1171 - accuracy: 0.5715 - val_loss: 1.1092 - val_accuracy: 0.5746\n",
      "Epoch 22/100\n",
      "697/697 [==============================] - 33s 47ms/step - loss: 1.1002 - accuracy: 0.5751 - val_loss: 1.1111 - val_accuracy: 0.5725\n",
      "Epoch 23/100\n",
      "697/697 [==============================] - 33s 47ms/step - loss: 1.0965 - accuracy: 0.5794 - val_loss: 1.0967 - val_accuracy: 0.5782\n",
      "Epoch 24/100\n",
      "697/697 [==============================] - 33s 47ms/step - loss: 1.0835 - accuracy: 0.5846 - val_loss: 1.0970 - val_accuracy: 0.5793\n",
      "Epoch 25/100\n",
      "697/697 [==============================] - 33s 47ms/step - loss: 1.0811 - accuracy: 0.5879 - val_loss: 1.0931 - val_accuracy: 0.5804\n",
      "Epoch 26/100\n",
      "697/697 [==============================] - 33s 47ms/step - loss: 1.0772 - accuracy: 0.5885 - val_loss: 1.0835 - val_accuracy: 0.5836\n",
      "Epoch 27/100\n",
      "697/697 [==============================] - 33s 47ms/step - loss: 1.0640 - accuracy: 0.5925 - val_loss: 1.0849 - val_accuracy: 0.5804\n",
      "Epoch 28/100\n",
      "697/697 [==============================] - 33s 47ms/step - loss: 1.0545 - accuracy: 0.5980 - val_loss: 1.0791 - val_accuracy: 0.5836\n",
      "Epoch 29/100\n",
      "697/697 [==============================] - 33s 47ms/step - loss: 1.0479 - accuracy: 0.5987 - val_loss: 1.0770 - val_accuracy: 0.5850\n",
      "Epoch 30/100\n",
      "697/697 [==============================] - 33s 47ms/step - loss: 1.0412 - accuracy: 0.6054 - val_loss: 1.0782 - val_accuracy: 0.5827\n",
      "Epoch 31/100\n",
      "697/697 [==============================] - 33s 47ms/step - loss: 1.0403 - accuracy: 0.6037 - val_loss: 1.0701 - val_accuracy: 0.5899\n",
      "Epoch 32/100\n",
      "697/697 [==============================] - 33s 47ms/step - loss: 1.0290 - accuracy: 0.6080 - val_loss: 1.0624 - val_accuracy: 0.5910\n",
      "Epoch 33/100\n",
      "697/697 [==============================] - 33s 47ms/step - loss: 1.0244 - accuracy: 0.6103 - val_loss: 1.0637 - val_accuracy: 0.5931\n",
      "Epoch 34/100\n",
      "697/697 [==============================] - 33s 47ms/step - loss: 1.0186 - accuracy: 0.6166 - val_loss: 1.0644 - val_accuracy: 0.5908\n",
      "Epoch 35/100\n",
      "697/697 [==============================] - 33s 47ms/step - loss: 1.0103 - accuracy: 0.6178 - val_loss: 1.0600 - val_accuracy: 0.5886\n",
      "Epoch 36/100\n",
      "697/697 [==============================] - 33s 47ms/step - loss: 1.0057 - accuracy: 0.6206 - val_loss: 1.0562 - val_accuracy: 0.5956\n",
      "Epoch 37/100\n",
      "697/697 [==============================] - 33s 47ms/step - loss: 0.9992 - accuracy: 0.6187 - val_loss: 1.0533 - val_accuracy: 0.5949\n",
      "Epoch 38/100\n",
      "697/697 [==============================] - 33s 47ms/step - loss: 0.9994 - accuracy: 0.6230 - val_loss: 1.0541 - val_accuracy: 0.5974\n",
      "Epoch 39/100\n",
      "697/697 [==============================] - 33s 47ms/step - loss: 0.9854 - accuracy: 0.6282 - val_loss: 1.0530 - val_accuracy: 0.5969\n",
      "Epoch 40/100\n",
      "697/697 [==============================] - 33s 47ms/step - loss: 0.9877 - accuracy: 0.6248 - val_loss: 1.0647 - val_accuracy: 0.5888\n",
      "Epoch 41/100\n",
      "697/697 [==============================] - 33s 47ms/step - loss: 0.9790 - accuracy: 0.6286 - val_loss: 1.0574 - val_accuracy: 0.5913\n",
      "Epoch 42/100\n",
      "697/697 [==============================] - 33s 47ms/step - loss: 0.9723 - accuracy: 0.6322 - val_loss: 1.0448 - val_accuracy: 0.6001\n",
      "Epoch 43/100\n",
      "697/697 [==============================] - 33s 47ms/step - loss: 0.9641 - accuracy: 0.6347 - val_loss: 1.0387 - val_accuracy: 0.6041\n",
      "Epoch 44/100\n",
      "697/697 [==============================] - 33s 47ms/step - loss: 0.9648 - accuracy: 0.6355 - val_loss: 1.0408 - val_accuracy: 0.6023\n",
      "Epoch 45/100\n",
      "697/697 [==============================] - 32s 47ms/step - loss: 0.9548 - accuracy: 0.6365 - val_loss: 1.0551 - val_accuracy: 0.5949\n",
      "Epoch 46/100\n",
      "697/697 [==============================] - 33s 47ms/step - loss: 0.9496 - accuracy: 0.6409 - val_loss: 1.0329 - val_accuracy: 0.6071\n",
      "Epoch 47/100\n",
      "697/697 [==============================] - 33s 47ms/step - loss: 0.9459 - accuracy: 0.6417 - val_loss: 1.0470 - val_accuracy: 0.6023\n",
      "Epoch 48/100\n",
      "697/697 [==============================] - 33s 47ms/step - loss: 0.9441 - accuracy: 0.6462 - val_loss: 1.0348 - val_accuracy: 0.6066\n",
      "Epoch 49/100\n",
      "697/697 [==============================] - 33s 47ms/step - loss: 0.9389 - accuracy: 0.6449 - val_loss: 1.0329 - val_accuracy: 0.6053\n",
      "Epoch 50/100\n",
      "697/697 [==============================] - 33s 47ms/step - loss: 0.9285 - accuracy: 0.6498 - val_loss: 1.0356 - val_accuracy: 0.6062\n",
      "Epoch 51/100\n",
      "697/697 [==============================] - 33s 47ms/step - loss: 0.9230 - accuracy: 0.6518 - val_loss: 1.0347 - val_accuracy: 0.6067\n",
      "Epoch 52/100\n",
      "697/697 [==============================] - 32s 46ms/step - loss: 0.9225 - accuracy: 0.6509 - val_loss: 1.0379 - val_accuracy: 0.6069\n",
      "Epoch 53/100\n",
      "697/697 [==============================] - 33s 47ms/step - loss: 0.9171 - accuracy: 0.6580 - val_loss: 1.0360 - val_accuracy: 0.6075\n",
      "Epoch 54/100\n",
      "697/697 [==============================] - 33s 47ms/step - loss: 0.9100 - accuracy: 0.6574 - val_loss: 1.0381 - val_accuracy: 0.6058\n",
      "Epoch 55/100\n",
      "697/697 [==============================] - 33s 47ms/step - loss: 0.9051 - accuracy: 0.6585 - val_loss: 1.0277 - val_accuracy: 0.6141\n",
      "Epoch 56/100\n",
      "697/697 [==============================] - 33s 47ms/step - loss: 0.9019 - accuracy: 0.6578 - val_loss: 1.0334 - val_accuracy: 0.6137\n",
      "Epoch 57/100\n"
     ]
    },
    {
     "name": "stdout",
     "output_type": "stream",
     "text": [
      "697/697 [==============================] - 33s 47ms/step - loss: 0.8959 - accuracy: 0.6635 - val_loss: 1.0288 - val_accuracy: 0.6066\n",
      "Epoch 58/100\n",
      "697/697 [==============================] - 33s 47ms/step - loss: 0.8945 - accuracy: 0.6646 - val_loss: 1.0536 - val_accuracy: 0.6046\n",
      "Epoch 59/100\n",
      "697/697 [==============================] - 33s 47ms/step - loss: 0.8917 - accuracy: 0.6647 - val_loss: 1.0319 - val_accuracy: 0.6055\n",
      "Epoch 60/100\n",
      "697/697 [==============================] - 33s 47ms/step - loss: 0.8806 - accuracy: 0.6701 - val_loss: 1.0372 - val_accuracy: 0.6087\n",
      "Epoch 61/100\n",
      "697/697 [==============================] - 32s 47ms/step - loss: 0.8743 - accuracy: 0.6717 - val_loss: 1.0423 - val_accuracy: 0.6102\n",
      "Epoch 62/100\n",
      "697/697 [==============================] - 33s 47ms/step - loss: 0.8783 - accuracy: 0.6694 - val_loss: 1.0298 - val_accuracy: 0.6107\n",
      "Epoch 63/100\n",
      "697/697 [==============================] - 33s 47ms/step - loss: 0.8687 - accuracy: 0.6728 - val_loss: 1.0230 - val_accuracy: 0.6154\n",
      "Epoch 64/100\n",
      "697/697 [==============================] - 33s 47ms/step - loss: 0.8639 - accuracy: 0.6793 - val_loss: 1.0218 - val_accuracy: 0.6150\n",
      "Epoch 65/100\n",
      "697/697 [==============================] - 33s 47ms/step - loss: 0.8562 - accuracy: 0.6821 - val_loss: 1.0235 - val_accuracy: 0.6206\n",
      "Epoch 66/100\n",
      "697/697 [==============================] - 33s 47ms/step - loss: 0.8550 - accuracy: 0.6798 - val_loss: 1.0262 - val_accuracy: 0.6139\n",
      "Epoch 67/100\n",
      "697/697 [==============================] - 33s 47ms/step - loss: 0.8562 - accuracy: 0.6795 - val_loss: 1.0355 - val_accuracy: 0.6100\n",
      "Epoch 68/100\n",
      "697/697 [==============================] - 33s 47ms/step - loss: 0.8567 - accuracy: 0.6820 - val_loss: 1.0330 - val_accuracy: 0.6119\n",
      "Epoch 69/100\n",
      "697/697 [==============================] - 33s 47ms/step - loss: 0.8419 - accuracy: 0.6836 - val_loss: 1.0296 - val_accuracy: 0.6191\n",
      "Epoch 70/100\n",
      "697/697 [==============================] - 33s 47ms/step - loss: 0.8430 - accuracy: 0.6855 - val_loss: 1.0234 - val_accuracy: 0.6198\n",
      "Epoch 71/100\n",
      "697/697 [==============================] - 33s 47ms/step - loss: 0.8334 - accuracy: 0.6905 - val_loss: 1.0309 - val_accuracy: 0.6154\n",
      "Epoch 72/100\n",
      "697/697 [==============================] - 33s 47ms/step - loss: 0.8367 - accuracy: 0.6901 - val_loss: 1.0192 - val_accuracy: 0.6240\n",
      "Epoch 73/100\n",
      "697/697 [==============================] - 33s 47ms/step - loss: 0.8219 - accuracy: 0.6943 - val_loss: 1.0358 - val_accuracy: 0.6111\n",
      "Epoch 74/100\n",
      "697/697 [==============================] - 33s 47ms/step - loss: 0.8253 - accuracy: 0.6925 - val_loss: 1.0322 - val_accuracy: 0.6145\n",
      "Epoch 75/100\n",
      "697/697 [==============================] - 33s 47ms/step - loss: 0.8145 - accuracy: 0.6964 - val_loss: 1.0269 - val_accuracy: 0.6179\n",
      "Epoch 76/100\n",
      "697/697 [==============================] - 33s 47ms/step - loss: 0.8168 - accuracy: 0.6987 - val_loss: 1.0262 - val_accuracy: 0.6177\n",
      "Epoch 77/100\n",
      "697/697 [==============================] - 33s 47ms/step - loss: 0.8146 - accuracy: 0.6977 - val_loss: 1.0222 - val_accuracy: 0.6225\n",
      "Epoch 78/100\n",
      "697/697 [==============================] - 33s 47ms/step - loss: 0.8060 - accuracy: 0.7023 - val_loss: 1.0228 - val_accuracy: 0.6150\n",
      "Epoch 79/100\n",
      "697/697 [==============================] - 33s 47ms/step - loss: 0.8003 - accuracy: 0.7001 - val_loss: 1.0303 - val_accuracy: 0.6179\n",
      "Epoch 80/100\n",
      "697/697 [==============================] - 33s 47ms/step - loss: 0.7983 - accuracy: 0.7038 - val_loss: 1.0235 - val_accuracy: 0.6159\n",
      "Epoch 81/100\n",
      "697/697 [==============================] - 33s 47ms/step - loss: 0.7897 - accuracy: 0.7030 - val_loss: 1.0298 - val_accuracy: 0.6188\n",
      "Epoch 82/100\n",
      "697/697 [==============================] - 33s 47ms/step - loss: 0.7886 - accuracy: 0.7080 - val_loss: 1.0237 - val_accuracy: 0.6254\n",
      "Epoch 83/100\n",
      "697/697 [==============================] - 33s 47ms/step - loss: 0.7862 - accuracy: 0.7066 - val_loss: 1.0363 - val_accuracy: 0.6139\n",
      "Epoch 84/100\n",
      "697/697 [==============================] - 33s 47ms/step - loss: 0.7806 - accuracy: 0.7106 - val_loss: 1.0211 - val_accuracy: 0.6175\n",
      "Epoch 85/100\n",
      "697/697 [==============================] - 33s 47ms/step - loss: 0.7786 - accuracy: 0.7101 - val_loss: 1.0257 - val_accuracy: 0.6225\n",
      "Epoch 86/100\n",
      "697/697 [==============================] - 33s 47ms/step - loss: 0.7780 - accuracy: 0.7119 - val_loss: 1.0251 - val_accuracy: 0.6204\n",
      "Epoch 87/100\n",
      "697/697 [==============================] - 33s 47ms/step - loss: 0.7672 - accuracy: 0.7141 - val_loss: 1.0351 - val_accuracy: 0.6243\n",
      "Epoch 88/100\n",
      "697/697 [==============================] - 33s 47ms/step - loss: 0.7686 - accuracy: 0.7149 - val_loss: 1.0474 - val_accuracy: 0.6206\n",
      "Epoch 89/100\n",
      "697/697 [==============================] - 33s 47ms/step - loss: 0.7594 - accuracy: 0.7161 - val_loss: 1.0294 - val_accuracy: 0.6272\n",
      "Epoch 90/100\n",
      "697/697 [==============================] - 33s 47ms/step - loss: 0.7558 - accuracy: 0.7197 - val_loss: 1.0311 - val_accuracy: 0.6254\n",
      "Epoch 91/100\n",
      "697/697 [==============================] - 33s 47ms/step - loss: 0.7547 - accuracy: 0.7216 - val_loss: 1.0308 - val_accuracy: 0.6254\n",
      "Epoch 92/100\n",
      "697/697 [==============================] - 33s 47ms/step - loss: 0.7453 - accuracy: 0.7247 - val_loss: 1.0371 - val_accuracy: 0.6180\n",
      "Epoch 93/100\n",
      "697/697 [==============================] - 33s 47ms/step - loss: 0.7433 - accuracy: 0.7236 - val_loss: 1.0372 - val_accuracy: 0.6188\n",
      "Epoch 94/100\n",
      "697/697 [==============================] - 33s 47ms/step - loss: 0.7396 - accuracy: 0.7266 - val_loss: 1.0309 - val_accuracy: 0.6254\n",
      "Epoch 95/100\n",
      "697/697 [==============================] - 33s 47ms/step - loss: 0.7406 - accuracy: 0.7265 - val_loss: 1.0334 - val_accuracy: 0.6209\n",
      "Epoch 96/100\n",
      "697/697 [==============================] - 33s 47ms/step - loss: 0.7300 - accuracy: 0.7313 - val_loss: 1.0368 - val_accuracy: 0.6276\n",
      "Epoch 97/100\n",
      "697/697 [==============================] - 33s 47ms/step - loss: 0.7267 - accuracy: 0.7285 - val_loss: 1.0287 - val_accuracy: 0.6258\n",
      "Epoch 98/100\n",
      "697/697 [==============================] - 32s 47ms/step - loss: 0.7297 - accuracy: 0.7316 - val_loss: 1.0528 - val_accuracy: 0.6154\n",
      "Epoch 99/100\n",
      "697/697 [==============================] - 33s 47ms/step - loss: 0.7225 - accuracy: 0.7349 - val_loss: 1.0497 - val_accuracy: 0.6143\n",
      "Epoch 100/100\n",
      "697/697 [==============================] - 33s 47ms/step - loss: 0.7173 - accuracy: 0.7350 - val_loss: 1.0459 - val_accuracy: 0.6213\n"
     ]
    },
    {
     "data": {
      "image/png": "[encoded data removed]",
      "text/plain": [
       "<Figure size 432x288 with 1 Axes>"
      ]
     },
     "metadata": {
      "needs_background": "light"
     },
     "output_type": "display_data"
    }
   ],
   "source": [
    "history = model.fit(datagen.flow(xtrain, ytrain, batch_size=32),\n",
    "               epochs=100,\n",
    "               validation_data=(xtest, ytest))\n",
    "def plot_hist(hist):\n",
    "    plt.plot(hist.history[\"accuracy\"])\n",
    "    plt.plot(hist.history[\"val_accuracy\"])\n",
    "    plt.title(\"model accuracy\")\n",
    "    plt.ylabel(\"accuracy\")\n",
    "    plt.xlabel(\"epoch\")\n",
    "    plt.legend([\"train\", \"validation\"], loc=\"upper left\")\n",
    "    plt.show()\n",
    "plot_hist(history)"
   ]
  },
  {
   "cell_type": "code",
   "execution_count": 9,
   "id": "2dc1e83a",
   "metadata": {},
   "outputs": [
    {
     "name": "stdout",
     "output_type": "stream",
     "text": [
      "175/175 [==============================] - 2s 13ms/step - loss: 1.0459 - accuracy: 0.6213\n"
     ]
    },
    {
     "data": {
      "text/plain": [
       "[1.0459201335906982, 0.6212773323059082]"
      ]
     },
     "execution_count": 9,
     "metadata": {},
     "output_type": "execute_result"
    }
   ],
   "source": [
    "model.evaluate(xtest, ytest, batch_size = 32)"
   ]
  },
  {
   "cell_type": "code",
   "execution_count": 10,
   "id": "5caced39",
   "metadata": {},
   "outputs": [
    {
     "name": "stdout",
     "output_type": "stream",
     "text": [
      "697/697 [==============================] - 9s 13ms/step - loss: 0.6341 - accuracy: 0.7729\n"
     ]
    },
    {
     "data": {
      "text/plain": [
       "[0.6341271996498108, 0.7728985548019409]"
      ]
     },
     "execution_count": 10,
     "metadata": {},
     "output_type": "execute_result"
    }
   ],
   "source": [
    "model.evaluate(xtrain, ytrain, batch_size = 32)"
   ]
  },
  {
   "cell_type": "code",
   "execution_count": 12,
   "id": "0ccbcb9d",
   "metadata": {},
   "outputs": [],
   "source": [
    "model.save('VGG16_3.h5')"
   ]
  },
  {
   "cell_type": "code",
   "execution_count": null,
   "id": "f37951d8",
   "metadata": {},
   "outputs": [],
   "source": []
  }
 ],
 "metadata": {
  "kernelspec": {
   "display_name": "Python 3",
   "language": "python",
   "name": "python3"
  },
  "language_info": {
   "codemirror_mode": {
    "name": "ipython",
    "version": 3
   },
   "file_extension": ".py",
   "mimetype": "text/x-python",
   "name": "python",
   "nbconvert_exporter": "python",
   "pygments_lexer": "ipython3",
   "version": "3.8.8"
  }
 },
 "nbformat": 4,
 "nbformat_minor": 5
}
