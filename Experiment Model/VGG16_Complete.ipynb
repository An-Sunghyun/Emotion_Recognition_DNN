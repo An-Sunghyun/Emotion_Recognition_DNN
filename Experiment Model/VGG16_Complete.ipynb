{
 "cells": [
  {
   "cell_type": "code",
   "execution_count": 1,
   "id": "24ddaa00",
   "metadata": {},
   "outputs": [],
   "source": [
    "import tensorflow as tf\n",
    "\n",
    "import pandas as pd\n",
    "import numpy as np #데이터 배열화\n",
    "import os #경로 설정용 \n",
    "import keras #딥러닝용 패키지\n",
    "import random #데이터 분산할 때 쓸 랜덤\n",
    "import cv2 #이미지 읽기용\n",
    "import math #연산용\n",
    "import seaborn as sns #matplotlib에 다양한 시각화 기능이 추가된 패키지\n",
    "from sklearn.metrics import confusion_matrix #분류의 정확성 평가\n",
    "from sklearn.preprocessing import LabelBinarizer #데이터 전처리용\n",
    "from sklearn.model_selection import train_test_split #데이터 분할용\n",
    "\n",
    "import matplotlib.pyplot as plt #데이터 시각화용\n",
    "\n",
    "from tensorflow.keras.layers import Dense,GlobalAveragePooling2D,Convolution2D,BatchNormalization #사용할 BN, ConV2 등의 계층\n",
    "from tensorflow.keras.layers import Flatten,MaxPooling2D,Dropout #사용할 레이어\n",
    "\n",
    "from tensorflow.keras.applications import VGG16 \n",
    "from tensorflow.keras.applications.densenet import preprocess_input #tensor나 numpy배열 전처리용\n",
    "\n",
    "from tensorflow.keras.preprocessing import image #이미지 데이터를 실시간으로 처리하기 위한 도구\n",
    "from tensorflow.keras.preprocessing.image import ImageDataGenerator,img_to_array #이미지 편집을 위한 제너레이터(Affine Transform)\n",
    "\n",
    "from tensorflow.keras.models import Model #교육 및 추론 기능이 있는 개체로 레이어를 그룹화\n",
    "from keras.models import Sequential\n",
    "\n",
    "from tensorflow.keras.optimizers import Adam #Adam 옵티마이저 사용. loss는 categorical_crossentropy 사용\n",
    "\n",
    "#체크포인트를 두고 저장 + metric이 중지되면 학습률을 감소\n",
    "from tensorflow.keras.callbacks import ModelCheckpoint, ReduceLROnPlateau \n",
    "\n",
    "import warnings #경고 무시\n",
    "warnings.filterwarnings(\"ignore\")"
   ]
  },
  {
   "cell_type": "code",
   "execution_count": 2,
   "id": "16346760",
   "metadata": {},
   "outputs": [],
   "source": [
    "image_size=48"
   ]
  },
  {
   "cell_type": "code",
   "execution_count": 3,
   "id": "26f204f5",
   "metadata": {},
   "outputs": [
    {
     "name": "stdout",
     "output_type": "stream",
     "text": [
      "['neutral', 'fear', 'happy', 'sad', 'angry', 'surprise']\n"
     ]
    }
   ],
   "source": [
    "data=[]\n",
    "labels=[]\n",
    "random.seed(42)\n",
    "imagePaths = sorted(list(os.listdir(\"emotion_FixedVer/\")))\n",
    "random.shuffle(imagePaths)\n",
    "print(imagePaths)\n",
    "\n",
    "for img in imagePaths:\n",
    "    path=sorted(list(os.listdir(\"emotion_FixedVer/\"+img)))\n",
    "    for i in path:\n",
    "        image = cv2.imread(\"emotion_FixedVer/\"+img+'/'+i)\n",
    "        image = cv2.resize(image, (image_size,image_size))\n",
    "        image = img_to_array(image)\n",
    "        data.append(image)\n",
    "        l = label = img\n",
    "        labels.append(l)"
   ]
  },
  {
   "cell_type": "code",
   "execution_count": 4,
   "id": "5d918663",
   "metadata": {},
   "outputs": [
    {
     "name": "stdout",
     "output_type": "stream",
     "text": [
      "[0 0 0 1 0 0]\n"
     ]
    }
   ],
   "source": [
    "data = np.array(data, dtype=\"float32\") / 255.0\n",
    "labels = np.array(labels)\n",
    "mlb = LabelBinarizer()\n",
    "labels = mlb.fit_transform(labels)\n",
    "print(labels[0])"
   ]
  },
  {
   "cell_type": "code",
   "execution_count": 5,
   "id": "8a850fe1",
   "metadata": {},
   "outputs": [
    {
     "name": "stdout",
     "output_type": "stream",
     "text": [
      "(28272, 48, 48, 3) (7068, 48, 48, 3)\n"
     ]
    }
   ],
   "source": [
    "(xtrain,xtest,ytrain,ytest)=train_test_split(data,labels,test_size=0.2,random_state=42)\n",
    "print(xtrain.shape, xtest.shape)"
   ]
  },
  {
   "cell_type": "code",
   "execution_count": 6,
   "id": "a79604a7",
   "metadata": {},
   "outputs": [],
   "source": [
    "datagen = ImageDataGenerator(zoom_range = 0.2, horizontal_flip=True, shear_range=0.2) #이미지 가공(학습률 향상을 위한 augmentation)\n",
    "datagen.fit(xtrain)"
   ]
  },
  {
   "cell_type": "code",
   "execution_count": 7,
   "id": "3b74d0f4",
   "metadata": {},
   "outputs": [
    {
     "name": "stdout",
     "output_type": "stream",
     "text": [
      "Model: \"model\"\n",
      "_________________________________________________________________\n",
      "Layer (type)                 Output Shape              Param #   \n",
      "=================================================================\n",
      "input_1 (InputLayer)         [(None, 48, 48, 3)]       0         \n",
      "_________________________________________________________________\n",
      "block1_conv1 (Conv2D)        (None, 48, 48, 64)        1792      \n",
      "_________________________________________________________________\n",
      "block1_conv2 (Conv2D)        (None, 48, 48, 64)        36928     \n",
      "_________________________________________________________________\n",
      "block1_pool (MaxPooling2D)   (None, 24, 24, 64)        0         \n",
      "_________________________________________________________________\n",
      "block2_conv1 (Conv2D)        (None, 24, 24, 128)       73856     \n",
      "_________________________________________________________________\n",
      "block2_conv2 (Conv2D)        (None, 24, 24, 128)       147584    \n",
      "_________________________________________________________________\n",
      "block2_pool (MaxPooling2D)   (None, 12, 12, 128)       0         \n",
      "_________________________________________________________________\n",
      "block3_conv1 (Conv2D)        (None, 12, 12, 256)       295168    \n",
      "_________________________________________________________________\n",
      "block3_conv2 (Conv2D)        (None, 12, 12, 256)       590080    \n",
      "_________________________________________________________________\n",
      "block3_conv3 (Conv2D)        (None, 12, 12, 256)       590080    \n",
      "_________________________________________________________________\n",
      "block3_pool (MaxPooling2D)   (None, 6, 6, 256)         0         \n",
      "_________________________________________________________________\n",
      "block4_conv1 (Conv2D)        (None, 6, 6, 512)         1180160   \n",
      "_________________________________________________________________\n",
      "block4_conv2 (Conv2D)        (None, 6, 6, 512)         2359808   \n",
      "_________________________________________________________________\n",
      "block4_conv3 (Conv2D)        (None, 6, 6, 512)         2359808   \n",
      "_________________________________________________________________\n",
      "block4_pool (MaxPooling2D)   (None, 3, 3, 512)         0         \n",
      "_________________________________________________________________\n",
      "block5_conv1 (Conv2D)        (None, 3, 3, 512)         2359808   \n",
      "_________________________________________________________________\n",
      "block5_conv2 (Conv2D)        (None, 3, 3, 512)         2359808   \n",
      "_________________________________________________________________\n",
      "block5_conv3 (Conv2D)        (None, 3, 3, 512)         2359808   \n",
      "_________________________________________________________________\n",
      "block5_pool (MaxPooling2D)   (None, 1, 1, 512)         0         \n",
      "_________________________________________________________________\n",
      "flatten (Flatten)            (None, 512)               0         \n",
      "_________________________________________________________________\n",
      "dense (Dense)                (None, 512)               262656    \n",
      "_________________________________________________________________\n",
      "dropout (Dropout)            (None, 512)               0         \n",
      "_________________________________________________________________\n",
      "dense_1 (Dense)              (None, 6)                 3078      \n",
      "=================================================================\n",
      "Total params: 14,980,422\n",
      "Trainable params: 14,980,422\n",
      "Non-trainable params: 0\n",
      "_________________________________________________________________\n"
     ]
    }
   ],
   "source": [
    "from tensorflow.keras.optimizers import Adam\n",
    "\n",
    "model = VGG16(weights='imagenet', include_top=False, input_shape=(image_size, image_size, 3))\n",
    "x=Flatten()(model.output)\n",
    "x=Dense(512,activation='relu')(x)\n",
    "x=Dropout(0.2)(x)\n",
    "output=Dense(6,activation='softmax')(x) # because we have to predict the AUC\n",
    "model=Model(model.input,output)\n",
    "\n",
    "model.compile(\n",
    "    optimizer = Adam(lr=0.00001), \n",
    "    loss='categorical_crossentropy', \n",
    "    metrics=['accuracy']\n",
    "  )\n",
    "\n",
    "model.summary()"
   ]
  },
  {
   "cell_type": "code",
   "execution_count": 8,
   "id": "fc0fb722",
   "metadata": {},
   "outputs": [
    {
     "name": "stdout",
     "output_type": "stream",
     "text": [
      "Epoch 1/50\n",
      "884/884 [==============================] - 46s 47ms/step - loss: 1.4131 - accuracy: 0.4313 - val_loss: 1.1655 - val_accuracy: 0.5478\n",
      "Epoch 2/50\n",
      "884/884 [==============================] - 41s 46ms/step - loss: 1.1574 - accuracy: 0.5520 - val_loss: 1.0709 - val_accuracy: 0.5862\n",
      "Epoch 3/50\n",
      "884/884 [==============================] - 41s 46ms/step - loss: 1.0544 - accuracy: 0.5970 - val_loss: 1.0171 - val_accuracy: 0.6048\n",
      "Epoch 4/50\n",
      "884/884 [==============================] - 41s 46ms/step - loss: 0.9876 - accuracy: 0.6245 - val_loss: 0.9782 - val_accuracy: 0.6263\n",
      "Epoch 5/50\n",
      "884/884 [==============================] - 41s 46ms/step - loss: 0.9349 - accuracy: 0.6457 - val_loss: 0.9487 - val_accuracy: 0.6350\n",
      "Epoch 6/50\n",
      "884/884 [==============================] - 41s 46ms/step - loss: 0.8852 - accuracy: 0.6699 - val_loss: 0.9408 - val_accuracy: 0.6391\n",
      "Epoch 7/50\n",
      "884/884 [==============================] - 41s 46ms/step - loss: 0.8371 - accuracy: 0.6884 - val_loss: 0.9334 - val_accuracy: 0.6528\n",
      "Epoch 8/50\n",
      "884/884 [==============================] - 41s 46ms/step - loss: 0.7907 - accuracy: 0.7091 - val_loss: 0.9302 - val_accuracy: 0.6497\n",
      "Epoch 9/50\n",
      "884/884 [==============================] - 41s 47ms/step - loss: 0.7496 - accuracy: 0.7257 - val_loss: 0.9021 - val_accuracy: 0.6681\n",
      "Epoch 10/50\n",
      "884/884 [==============================] - 41s 46ms/step - loss: 0.7051 - accuracy: 0.7414 - val_loss: 0.9167 - val_accuracy: 0.6654\n",
      "Epoch 11/50\n",
      "884/884 [==============================] - 41s 46ms/step - loss: 0.6608 - accuracy: 0.7617 - val_loss: 0.9195 - val_accuracy: 0.6694\n",
      "Epoch 12/50\n",
      "884/884 [==============================] - 41s 46ms/step - loss: 0.6160 - accuracy: 0.7779 - val_loss: 0.9402 - val_accuracy: 0.6695\n",
      "Epoch 13/50\n",
      "884/884 [==============================] - 41s 46ms/step - loss: 0.5676 - accuracy: 0.7979 - val_loss: 0.9558 - val_accuracy: 0.6677\n",
      "Epoch 14/50\n",
      "884/884 [==============================] - 41s 46ms/step - loss: 0.5298 - accuracy: 0.8106 - val_loss: 0.9955 - val_accuracy: 0.6735\n",
      "Epoch 15/50\n",
      "884/884 [==============================] - 41s 46ms/step - loss: 0.4910 - accuracy: 0.8265 - val_loss: 1.0079 - val_accuracy: 0.6678\n",
      "Epoch 16/50\n",
      "884/884 [==============================] - 41s 46ms/step - loss: 0.4546 - accuracy: 0.8404 - val_loss: 1.0095 - val_accuracy: 0.6761\n",
      "Epoch 17/50\n",
      "884/884 [==============================] - 41s 46ms/step - loss: 0.4175 - accuracy: 0.8562 - val_loss: 1.1121 - val_accuracy: 0.6648\n",
      "Epoch 18/50\n",
      "884/884 [==============================] - 41s 46ms/step - loss: 0.3934 - accuracy: 0.8610 - val_loss: 1.1091 - val_accuracy: 0.6593\n",
      "Epoch 19/50\n",
      "884/884 [==============================] - 41s 46ms/step - loss: 0.3664 - accuracy: 0.8728 - val_loss: 1.1558 - val_accuracy: 0.6528\n",
      "Epoch 20/50\n",
      "884/884 [==============================] - 41s 46ms/step - loss: 0.3388 - accuracy: 0.8818 - val_loss: 1.1379 - val_accuracy: 0.6744\n",
      "Epoch 21/50\n",
      "884/884 [==============================] - 41s 46ms/step - loss: 0.3109 - accuracy: 0.8897 - val_loss: 1.2158 - val_accuracy: 0.6643\n",
      "Epoch 22/50\n",
      "884/884 [==============================] - 41s 46ms/step - loss: 0.3000 - accuracy: 0.8955 - val_loss: 1.1914 - val_accuracy: 0.6760\n",
      "Epoch 23/50\n",
      "884/884 [==============================] - 41s 46ms/step - loss: 0.2745 - accuracy: 0.9068 - val_loss: 1.1839 - val_accuracy: 0.6719\n",
      "Epoch 24/50\n",
      "884/884 [==============================] - 41s 46ms/step - loss: 0.2654 - accuracy: 0.9087 - val_loss: 1.2495 - val_accuracy: 0.6753\n",
      "Epoch 25/50\n",
      "884/884 [==============================] - 41s 46ms/step - loss: 0.2476 - accuracy: 0.9154 - val_loss: 1.3384 - val_accuracy: 0.6578\n",
      "Epoch 26/50\n",
      "884/884 [==============================] - 41s 46ms/step - loss: 0.2388 - accuracy: 0.9193 - val_loss: 1.2103 - val_accuracy: 0.6756\n",
      "Epoch 27/50\n",
      "884/884 [==============================] - 41s 46ms/step - loss: 0.2288 - accuracy: 0.9202 - val_loss: 1.2952 - val_accuracy: 0.6696\n",
      "Epoch 28/50\n",
      "884/884 [==============================] - 41s 46ms/step - loss: 0.2120 - accuracy: 0.9261 - val_loss: 1.2879 - val_accuracy: 0.6706\n",
      "Epoch 29/50\n",
      "884/884 [==============================] - 41s 46ms/step - loss: 0.2023 - accuracy: 0.9292 - val_loss: 1.3456 - val_accuracy: 0.6576\n",
      "Epoch 30/50\n",
      "884/884 [==============================] - 41s 46ms/step - loss: 0.1903 - accuracy: 0.9362 - val_loss: 1.3544 - val_accuracy: 0.6716\n",
      "Epoch 31/50\n",
      "884/884 [==============================] - 41s 46ms/step - loss: 0.1816 - accuracy: 0.9392 - val_loss: 1.4050 - val_accuracy: 0.6732\n",
      "Epoch 32/50\n",
      "884/884 [==============================] - 41s 46ms/step - loss: 0.1847 - accuracy: 0.9375 - val_loss: 1.3678 - val_accuracy: 0.6655\n",
      "Epoch 33/50\n",
      "884/884 [==============================] - 41s 46ms/step - loss: 0.1731 - accuracy: 0.9408 - val_loss: 1.3822 - val_accuracy: 0.6728\n",
      "Epoch 34/50\n",
      "884/884 [==============================] - 41s 46ms/step - loss: 0.1629 - accuracy: 0.9422 - val_loss: 1.4344 - val_accuracy: 0.6754\n",
      "Epoch 35/50\n",
      "884/884 [==============================] - 41s 46ms/step - loss: 0.1631 - accuracy: 0.9426 - val_loss: 1.4691 - val_accuracy: 0.6671\n",
      "Epoch 36/50\n",
      "884/884 [==============================] - 41s 46ms/step - loss: 0.1527 - accuracy: 0.9467 - val_loss: 1.5176 - val_accuracy: 0.6831\n",
      "Epoch 37/50\n",
      "884/884 [==============================] - 41s 46ms/step - loss: 0.1521 - accuracy: 0.9474 - val_loss: 1.3615 - val_accuracy: 0.6822\n",
      "Epoch 38/50\n",
      "884/884 [==============================] - 41s 46ms/step - loss: 0.1436 - accuracy: 0.9508 - val_loss: 1.5218 - val_accuracy: 0.6759\n",
      "Epoch 39/50\n",
      "884/884 [==============================] - 41s 46ms/step - loss: 0.1441 - accuracy: 0.9511 - val_loss: 1.5248 - val_accuracy: 0.6723\n",
      "Epoch 40/50\n",
      "884/884 [==============================] - 41s 46ms/step - loss: 0.1424 - accuracy: 0.9508 - val_loss: 1.4811 - val_accuracy: 0.6688\n",
      "Epoch 41/50\n",
      "884/884 [==============================] - 41s 46ms/step - loss: 0.1336 - accuracy: 0.9532 - val_loss: 1.5952 - val_accuracy: 0.6736\n",
      "Epoch 42/50\n",
      "884/884 [==============================] - 41s 46ms/step - loss: 0.1353 - accuracy: 0.9531 - val_loss: 1.5398 - val_accuracy: 0.6645\n",
      "Epoch 43/50\n",
      "884/884 [==============================] - 41s 46ms/step - loss: 0.1268 - accuracy: 0.9564 - val_loss: 1.5982 - val_accuracy: 0.6679\n",
      "Epoch 44/50\n",
      "884/884 [==============================] - 41s 46ms/step - loss: 0.1303 - accuracy: 0.9543 - val_loss: 1.5253 - val_accuracy: 0.6654\n",
      "Epoch 45/50\n",
      "884/884 [==============================] - 41s 46ms/step - loss: 0.1238 - accuracy: 0.9579 - val_loss: 1.6077 - val_accuracy: 0.6681\n",
      "Epoch 46/50\n",
      "884/884 [==============================] - 41s 46ms/step - loss: 0.1241 - accuracy: 0.9568 - val_loss: 1.7529 - val_accuracy: 0.6726\n",
      "Epoch 47/50\n",
      "884/884 [==============================] - 41s 46ms/step - loss: 0.1199 - accuracy: 0.9578 - val_loss: 1.5781 - val_accuracy: 0.6732\n",
      "Epoch 48/50\n",
      "884/884 [==============================] - 41s 46ms/step - loss: 0.1144 - accuracy: 0.9600 - val_loss: 1.7144 - val_accuracy: 0.6784\n",
      "Epoch 49/50\n",
      "884/884 [==============================] - 41s 46ms/step - loss: 0.1154 - accuracy: 0.9589 - val_loss: 1.6275 - val_accuracy: 0.6735\n",
      "Epoch 50/50\n",
      "884/884 [==============================] - 41s 46ms/step - loss: 0.1145 - accuracy: 0.9604 - val_loss: 1.5743 - val_accuracy: 0.6636\n"
     ]
    },
    {
     "data": {
      "image/png": "[encoded data removed]",
      "text/plain": [
       "<Figure size 432x288 with 1 Axes>"
      ]
     },
     "metadata": {
      "needs_background": "light"
     },
     "output_type": "display_data"
    }
   ],
   "source": [
    "history = model.fit(datagen.flow(xtrain, ytrain, batch_size=32),\n",
    "               epochs=50,\n",
    "               validation_data=(xtest, ytest))\n",
    "def plot_hist(hist):\n",
    "    plt.plot(hist.history[\"accuracy\"])\n",
    "    plt.plot(hist.history[\"val_accuracy\"])\n",
    "    plt.title(\"model accuracy\")\n",
    "    plt.ylabel(\"accuracy\")\n",
    "    plt.xlabel(\"epoch\")\n",
    "    plt.legend([\"train\", \"validation\"], loc=\"upper left\")\n",
    "    plt.show()\n",
    "plot_hist(history)"
   ]
  },
  {
   "cell_type": "code",
   "execution_count": 10,
   "id": "2dc1e83a",
   "metadata": {},
   "outputs": [
    {
     "name": "stdout",
     "output_type": "stream",
     "text": [
      "175/175 [==============================] - 24s 138ms/step - loss: 1.8318 - accuracy: 0.6572\n"
     ]
    },
    {
     "data": {
      "text/plain": [
       "[1.8317787647247314, 0.6571582555770874]"
      ]
     },
     "execution_count": 10,
     "metadata": {},
     "output_type": "execute_result"
    }
   ],
   "source": [
    "model.evaluate(xtest, ytest, batch_size = 32)"
   ]
  },
  {
   "cell_type": "code",
   "execution_count": 12,
   "id": "0ccbcb9d",
   "metadata": {},
   "outputs": [],
   "source": [
    "model.save('VGG16.h5')"
   ]
  },
  {
   "cell_type": "code",
   "execution_count": null,
   "id": "f37951d8",
   "metadata": {},
   "outputs": [],
   "source": []
  }
 ],
 "metadata": {
  "kernelspec": {
   "display_name": "Python 3",
   "language": "python",
   "name": "python3"
  },
  "language_info": {
   "codemirror_mode": {
    "name": "ipython",
    "version": 3
   },
   "file_extension": ".py",
   "mimetype": "text/x-python",
   "name": "python",
   "nbconvert_exporter": "python",
   "pygments_lexer": "ipython3",
   "version": "3.8.8"
  }
 },
 "nbformat": 4,
 "nbformat_minor": 5
}
