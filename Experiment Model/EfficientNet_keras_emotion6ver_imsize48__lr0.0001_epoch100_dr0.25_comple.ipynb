{
 "cells": [
  {
   "cell_type": "code",
   "execution_count": null,
   "metadata": {},
   "outputs": [],
   "source": [
    "import tensorflow\n",
    "\n",
    "import pandas as pd\n",
    "import numpy as np #데이터 배열화\n",
    "import os #경로 설정용 \n",
    "import keras #딥러닝용 패키지\n",
    "import random #데이터 분산할 때 쓸 랜덤\n",
    "import cv2 #이미지 읽기용\n",
    "import math #연산용\n",
    "import seaborn as sns #matplotlib에 다양한 시각화 기능이 추가된 패키지\n",
    "\n",
    "from sklearn.metrics import confusion_matrix #분류의 정확성 평가\n",
    "from sklearn.preprocessing import LabelBinarizer #데이터 전처리용\n",
    "from sklearn.model_selection import train_test_split #데이터 분할용\n",
    "\n",
    "import matplotlib.pyplot as plt #데이터 시각화용\n",
    "\n",
    "from tensorflow.keras.layers import Dense,GlobalAveragePooling2D,Convolution2D,BatchNormalization #사용할 BN, ConV2 등의 계층\n",
    "from tensorflow.keras.layers import Flatten,MaxPooling2D,Dropout, Input #사용할 레이어\n",
    "from tensorflow.keras.layers.experimental import preprocessing\n",
    "from tensorflow.keras.applications import EfficientNetB7\n",
    "\n",
    "from tensorflow.keras.preprocessing import image #이미지 데이터를 실시간으로 처리하기 위한 도구\n",
    "from tensorflow.keras.preprocessing.image import ImageDataGenerator,img_to_array #이미지 편집을 위한 제너레이터(Affine Transform)\n",
    "\n",
    "from tensorflow.keras.models import Model #교육 및 추론 기능이 있는 개체로 레이어를 그룹화\n",
    "\n",
    "from tensorflow.keras.optimizers import Adam #Adam 옵티마이저 사용. loss는 categorical_crossentropy 사용\n",
    "\n",
    "#체크포인트를 두고 저장 + metric이 중지되면 학습률을 감소\n",
    "from tensorflow.keras.callbacks import ModelCheckpoint, ReduceLROnPlateau \n",
    "\n",
    "import warnings #경고 무시\n",
    "warnings.filterwarnings(\"ignore\")"
   ]
  },
  {
   "cell_type": "code",
   "execution_count": null,
   "metadata": {},
   "outputs": [],
   "source": [
    "data=[]\n",
    "labels=[]\n",
    "random.seed(42)\n",
    "imagePaths = sorted(list(os.listdir(\"emotion_FixedVer/\")))\n",
    "random.shuffle(imagePaths)\n",
    "print(imagePaths)\n",
    "\n",
    "for img in imagePaths:\n",
    "    path=sorted(list(os.listdir(\"emotion_FixedVer/\"+img)))\n",
    "    for i in path:\n",
    "        image = cv2.imread(\"emotion_FixedVer/\"+img+'/'+i)\n",
    "        image = cv2.resize(image, (48,48))\n",
    "        image = img_to_array(image)\n",
    "        data.append(image)\n",
    "        l = label = img\n",
    "        labels.append(l)"
   ]
  },
  {
   "cell_type": "code",
   "execution_count": null,
   "metadata": {},
   "outputs": [],
   "source": [
    "data = np.array(data, dtype=\"float32\") / 255.0\n",
    "labels = np.array(labels)\n",
    "mlb = LabelBinarizer()\n",
    "labels = mlb.fit_transform(labels)\n",
    "print(labels[0])"
   ]
  },
  {
   "cell_type": "code",
   "execution_count": null,
   "metadata": {},
   "outputs": [],
   "source": [
    "(xtrain,xtest,ytrain,ytest)=train_test_split(data,labels,test_size=0.2,random_state=42)\n",
    "print(xtrain.shape, xtest.shape)"
   ]
  },
  {
   "cell_type": "code",
   "execution_count": null,
   "metadata": {},
   "outputs": [],
   "source": [
    "datagen = ImageDataGenerator(zoom_range = 0.2, horizontal_flip=True, shear_range=0.2) #이미지 가공(학습률 향상을 위한 augmentation)\n",
    "datagen.fit(xtrain)"
   ]
  },
  {
   "cell_type": "code",
   "execution_count": null,
   "metadata": {},
   "outputs": [],
   "source": [
    "model = EfficientNetB7(include_top=False, input_shape=(48, 48, 3), weights=\"imagenet\")\n",
    "# Freeze the pretrained weights\n",
    "model.trainable = False\n",
    "\n",
    "# Rebuild top\n",
    "x = GlobalAveragePooling2D(name=\"avg_pool\")(model.output)\n",
    "x = BatchNormalization()(x)\n",
    "\n",
    "top_dropout_rate = 0.2\n",
    "x = Dropout(top_dropout_rate, name=\"top_dropout\")(x)\n",
    "outputs = Dense(6, activation=\"softmax\", name=\"pred\")(x)\n",
    "    \n",
    "model=Model(model.input,outputs)"
   ]
  },
  {
   "cell_type": "code",
   "execution_count": null,
   "metadata": {},
   "outputs": [],
   "source": [
    "model.compile(\n",
    "    optimizer = Adam(lr=0.001), \n",
    "    loss='categorical_crossentropy', \n",
    "    metrics=['accuracy']\n",
    "  )\n",
    "\n",
    "model.summary()"
   ]
  },
  {
   "cell_type": "code",
   "execution_count": null,
   "metadata": {},
   "outputs": [],
   "source": [
    "def plot_hist(hist):\n",
    "    plt.plot(hist.history[\"accuracy\"])\n",
    "    plt.plot(hist.history[\"val_accuracy\"])\n",
    "    plt.title(\"model accuracy\")\n",
    "    plt.ylabel(\"accuracy\")\n",
    "    plt.xlabel(\"epoch\")\n",
    "    plt.legend([\"train\", \"validation\"], loc=\"upper left\")\n",
    "    plt.show()"
   ]
  },
  {
   "cell_type": "code",
   "execution_count": null,
   "metadata": {
    "scrolled": true
   },
   "outputs": [],
   "source": [
    "epochs = 20  # @param {type: \"slider\", min:8, max:80}\n",
    "hist = model.fit(datagen.flow(xtrain, ytrain, batch_size=32), epochs=epochs, validation_data=(xtest, ytest), verbose=2)\n",
    "plot_hist(hist)"
   ]
  },
  {
   "cell_type": "code",
   "execution_count": null,
   "metadata": {},
   "outputs": [],
   "source": [
    "plot_hist(hist)"
   ]
  },
  {
   "cell_type": "code",
   "execution_count": null,
   "metadata": {},
   "outputs": [],
   "source": [
    "model.evaluate(xtest, ytest, batch_size = 32)"
   ]
  },
  {
   "cell_type": "code",
   "execution_count": null,
   "metadata": {},
   "outputs": [],
   "source": [
    "model.save('EfficientNet_keras_emotion6ver_imsize48__lr0.01_epoch100.h5')"
   ]
  },
  {
   "cell_type": "code",
   "execution_count": null,
   "metadata": {},
   "outputs": [],
   "source": [
    "#완성도 확인\n",
    "ypred = model.predict(xtest)\n",
    "\n",
    "total = 0\n",
    "accurate = 0\n",
    "accurateindex = []\n",
    "wrongindex = []\n",
    "\n",
    "for i in range(len(ypred)):\n",
    "    if np.argmax(ypred[i]) == np.argmax(ytest[i]): #가장 큰 값을 찾아 인덱스 반환\n",
    "        accurate += 1\n",
    "        accurateindex.append(i)\n",
    "    else:\n",
    "        wrongindex.append(i)\n",
    "        \n",
    "    total += 1\n",
    "    \n",
    "print('Total-test-data;', total, '\\taccurately-predicted-data:', accurate, '\\t wrongly-predicted-data: ', total - accurate)\n",
    "print('Accuracy:', round(accurate/total*100, 3), '%')"
   ]
  },
  {
   "cell_type": "markdown",
   "metadata": {},
   "source": [
    "## 2차 훈련"
   ]
  },
  {
   "cell_type": "code",
   "execution_count": null,
   "metadata": {},
   "outputs": [],
   "source": [
    "def unfreeze_model(model):\n",
    "    # We unfreeze the top 20 layers while leaving BatchNorm layers frozen\n",
    "    for layer in model.layers[-20:]:\n",
    "        if not isinstance(layer, BatchNormalization):\n",
    "            layer.trainable = True\n",
    "\n",
    "    optimizer = Adam(learning_rate=1e-4)\n",
    "    model.compile(\n",
    "        optimizer=optimizer, loss=\"categorical_crossentropy\", metrics=[\"accuracy\"]\n",
    "    )\n"
   ]
  },
  {
   "cell_type": "code",
   "execution_count": null,
   "metadata": {},
   "outputs": [],
   "source": [
    "unfreeze_model(model)"
   ]
  },
  {
   "cell_type": "code",
   "execution_count": null,
   "metadata": {},
   "outputs": [],
   "source": [
    "epochs = 10  # @param {type: \"slider\", min:8, max:50}\n",
    "hist = model.fit(datagen.flow(xtrain, ytrain, batch_size=32), epochs=epochs, validation_data=(xtest, ytest), verbose=2)\n",
    "plot_hist(hist)"
   ]
  },
  {
   "cell_type": "code",
   "execution_count": null,
   "metadata": {},
   "outputs": [],
   "source": []
  }
 ],
 "metadata": {
  "kernelspec": {
   "display_name": "Python 3",
   "language": "python",
   "name": "python3"
  },
  "language_info": {
   "codemirror_mode": {
    "name": "ipython",
    "version": 3
   },
   "file_extension": ".py",
   "mimetype": "text/x-python",
   "name": "python",
   "nbconvert_exporter": "python",
   "pygments_lexer": "ipython3",
   "version": "3.8.8"
  }
 },
 "nbformat": 4,
 "nbformat_minor": 4
}
