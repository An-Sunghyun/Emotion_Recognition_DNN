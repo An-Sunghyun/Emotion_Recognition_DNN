{
 "cells": [
  {
   "cell_type": "code",
   "execution_count": 1,
   "id": "24ddaa00",
   "metadata": {},
   "outputs": [],
   "source": [
    "import tensorflow as tf\n",
    "\n",
    "import pandas as pd\n",
    "import numpy as np #데이터 배열화\n",
    "import os #경로 설정용 \n",
    "import keras #딥러닝용 패키지\n",
    "import random #데이터 분산할 때 쓸 랜덤\n",
    "import cv2 #이미지 읽기용\n",
    "import math #연산용\n",
    "import seaborn as sns #matplotlib에 다양한 시각화 기능이 추가된 패키지\n",
    "from sklearn.metrics import confusion_matrix #분류의 정확성 평가\n",
    "from sklearn.preprocessing import LabelBinarizer #데이터 전처리용\n",
    "from sklearn.model_selection import train_test_split #데이터 분할용\n",
    "\n",
    "import matplotlib.pyplot as plt #데이터 시각화용\n",
    "\n",
    "from tensorflow.keras.layers import Dense,GlobalAveragePooling2D,Convolution2D,BatchNormalization #사용할 BN, ConV2 등의 계층\n",
    "from tensorflow.keras.layers import Flatten,MaxPooling2D,Dropout #사용할 레이어\n",
    "\n",
    "from tensorflow.keras.applications import VGG16 \n",
    "from tensorflow.keras.applications.densenet import preprocess_input #tensor나 numpy배열 전처리용\n",
    "\n",
    "from tensorflow.keras.preprocessing import image #이미지 데이터를 실시간으로 처리하기 위한 도구\n",
    "from tensorflow.keras.preprocessing.image import ImageDataGenerator,img_to_array #이미지 편집을 위한 제너레이터(Affine Transform)\n",
    "\n",
    "from tensorflow.keras.models import Model #교육 및 추론 기능이 있는 개체로 레이어를 그룹화\n",
    "from keras.models import Sequential\n",
    "\n",
    "from tensorflow.keras.optimizers import Adam #Adam 옵티마이저 사용. loss는 categorical_crossentropy 사용\n",
    "\n",
    "#체크포인트를 두고 저장 + metric이 중지되면 학습률을 감소\n",
    "from tensorflow.keras.callbacks import ModelCheckpoint, ReduceLROnPlateau \n",
    "\n",
    "import warnings #경고 무시\n",
    "warnings.filterwarnings(\"ignore\")"
   ]
  },
  {
   "cell_type": "code",
   "execution_count": 2,
   "id": "16346760",
   "metadata": {},
   "outputs": [],
   "source": [
    "image_size=48"
   ]
  },
  {
   "cell_type": "code",
   "execution_count": 3,
   "id": "26f204f5",
   "metadata": {},
   "outputs": [
    {
     "name": "stdout",
     "output_type": "stream",
     "text": [
      "['neutral', 'fearful', 'happy', 'sad', 'angry', 'surprised']\n"
     ]
    }
   ],
   "source": [
    "data=[]\n",
    "labels=[]\n",
    "random.seed(42)\n",
    "imagePaths = sorted(list(os.listdir(\"emotion_FixedVer/\")))\n",
    "random.shuffle(imagePaths)\n",
    "print(imagePaths)\n",
    "\n",
    "for img in imagePaths:\n",
    "    path=sorted(list(os.listdir(\"emotion_FixedVer/\"+img)))\n",
    "    for i in path:\n",
    "        image = cv2.imread(\"emotion_FixedVer/\"+img+'/'+i)\n",
    "        image = cv2.resize(image, (image_size,image_size))\n",
    "        image = img_to_array(image)\n",
    "        data.append(image)\n",
    "        l = label = img\n",
    "        labels.append(l)"
   ]
  },
  {
   "cell_type": "code",
   "execution_count": 4,
   "id": "5d918663",
   "metadata": {},
   "outputs": [
    {
     "name": "stdout",
     "output_type": "stream",
     "text": [
      "[0 0 0 1 0 0]\n"
     ]
    }
   ],
   "source": [
    "data = np.array(data, dtype=\"float32\") / 255.0\n",
    "labels = np.array(labels)\n",
    "mlb = LabelBinarizer()\n",
    "labels = mlb.fit_transform(labels)\n",
    "print(labels[0])"
   ]
  },
  {
   "cell_type": "code",
   "execution_count": 5,
   "id": "8a850fe1",
   "metadata": {},
   "outputs": [
    {
     "name": "stdout",
     "output_type": "stream",
     "text": [
      "(22294, 48, 48, 3) (5574, 48, 48, 3)\n"
     ]
    }
   ],
   "source": [
    "(xtrain,xtest,ytrain,ytest)=train_test_split(data,labels,test_size=0.2,random_state=42)\n",
    "print(xtrain.shape, xtest.shape)"
   ]
  },
  {
   "cell_type": "code",
   "execution_count": 6,
   "id": "a79604a7",
   "metadata": {},
   "outputs": [],
   "source": [
    "datagen = ImageDataGenerator(zoom_range = 0.2, horizontal_flip=True, shear_range=0.2) #이미지 가공(학습률 향상을 위한 augmentation)\n",
    "datagen.fit(xtrain)"
   ]
  },
  {
   "cell_type": "code",
   "execution_count": 7,
   "id": "3b74d0f4",
   "metadata": {},
   "outputs": [
    {
     "name": "stdout",
     "output_type": "stream",
     "text": [
      "Model: \"model\"\n",
      "_________________________________________________________________\n",
      "Layer (type)                 Output Shape              Param #   \n",
      "=================================================================\n",
      "input_1 (InputLayer)         [(None, 48, 48, 3)]       0         \n",
      "_________________________________________________________________\n",
      "block1_conv1 (Conv2D)        (None, 48, 48, 64)        1792      \n",
      "_________________________________________________________________\n",
      "block1_conv2 (Conv2D)        (None, 48, 48, 64)        36928     \n",
      "_________________________________________________________________\n",
      "block1_pool (MaxPooling2D)   (None, 24, 24, 64)        0         \n",
      "_________________________________________________________________\n",
      "block2_conv1 (Conv2D)        (None, 24, 24, 128)       73856     \n",
      "_________________________________________________________________\n",
      "block2_conv2 (Conv2D)        (None, 24, 24, 128)       147584    \n",
      "_________________________________________________________________\n",
      "block2_pool (MaxPooling2D)   (None, 12, 12, 128)       0         \n",
      "_________________________________________________________________\n",
      "block3_conv1 (Conv2D)        (None, 12, 12, 256)       295168    \n",
      "_________________________________________________________________\n",
      "block3_conv2 (Conv2D)        (None, 12, 12, 256)       590080    \n",
      "_________________________________________________________________\n",
      "block3_conv3 (Conv2D)        (None, 12, 12, 256)       590080    \n",
      "_________________________________________________________________\n",
      "block3_pool (MaxPooling2D)   (None, 6, 6, 256)         0         \n",
      "_________________________________________________________________\n",
      "block4_conv1 (Conv2D)        (None, 6, 6, 512)         1180160   \n",
      "_________________________________________________________________\n",
      "block4_conv2 (Conv2D)        (None, 6, 6, 512)         2359808   \n",
      "_________________________________________________________________\n",
      "block4_conv3 (Conv2D)        (None, 6, 6, 512)         2359808   \n",
      "_________________________________________________________________\n",
      "block4_pool (MaxPooling2D)   (None, 3, 3, 512)         0         \n",
      "_________________________________________________________________\n",
      "block5_conv1 (Conv2D)        (None, 3, 3, 512)         2359808   \n",
      "_________________________________________________________________\n",
      "block5_conv2 (Conv2D)        (None, 3, 3, 512)         2359808   \n",
      "_________________________________________________________________\n",
      "block5_conv3 (Conv2D)        (None, 3, 3, 512)         2359808   \n",
      "_________________________________________________________________\n",
      "block5_pool (MaxPooling2D)   (None, 1, 1, 512)         0         \n",
      "_________________________________________________________________\n",
      "flatten (Flatten)            (None, 512)               0         \n",
      "_________________________________________________________________\n",
      "dense (Dense)                (None, 512)               262656    \n",
      "_________________________________________________________________\n",
      "dropout (Dropout)            (None, 512)               0         \n",
      "_________________________________________________________________\n",
      "dense_1 (Dense)              (None, 6)                 3078      \n",
      "=================================================================\n",
      "Total params: 14,980,422\n",
      "Trainable params: 14,980,422\n",
      "Non-trainable params: 0\n",
      "_________________________________________________________________\n"
     ]
    }
   ],
   "source": [
    "from tensorflow.keras.optimizers import Adam\n",
    "\n",
    "model = VGG16(weights='imagenet', include_top=False, input_shape=(image_size, image_size, 3))\n",
    "x=Flatten()(model.output)\n",
    "x=Dense(512,activation='relu')(x)\n",
    "x=Dropout(0.25)(x)\n",
    "output=Dense(6,activation='softmax')(x) # because we have to predict the AUC\n",
    "model=Model(model.input,output)\n",
    "\n",
    "model.compile(\n",
    "    optimizer = Adam(lr=0.0001), \n",
    "    loss='categorical_crossentropy', \n",
    "    metrics=['accuracy']\n",
    "  )\n",
    "\n",
    "model.summary()"
   ]
  },
  {
   "cell_type": "code",
   "execution_count": 8,
   "id": "fc0fb722",
   "metadata": {},
   "outputs": [
    {
     "name": "stdout",
     "output_type": "stream",
     "text": [
      "Epoch 1/50\n",
      "697/697 [==============================] - 37s 48ms/step - loss: 1.5999 - accuracy: 0.3181 - val_loss: 1.3213 - val_accuracy: 0.4580\n",
      "Epoch 2/50\n",
      "697/697 [==============================] - 32s 46ms/step - loss: 1.2774 - accuracy: 0.4866 - val_loss: 1.1540 - val_accuracy: 0.5405\n",
      "Epoch 3/50\n",
      "697/697 [==============================] - 32s 46ms/step - loss: 1.1447 - accuracy: 0.5534 - val_loss: 1.0971 - val_accuracy: 0.5700\n",
      "Epoch 4/50\n",
      "697/697 [==============================] - 32s 46ms/step - loss: 1.0675 - accuracy: 0.5898 - val_loss: 1.0507 - val_accuracy: 0.5996\n",
      "Epoch 5/50\n",
      "697/697 [==============================] - 32s 46ms/step - loss: 0.9958 - accuracy: 0.6218 - val_loss: 1.0068 - val_accuracy: 0.6163\n",
      "Epoch 6/50\n",
      "697/697 [==============================] - 32s 46ms/step - loss: 0.9400 - accuracy: 0.6457 - val_loss: 0.9881 - val_accuracy: 0.6216\n",
      "Epoch 7/50\n",
      "697/697 [==============================] - 32s 46ms/step - loss: 0.8903 - accuracy: 0.6616 - val_loss: 0.9905 - val_accuracy: 0.6326\n",
      "Epoch 8/50\n",
      "697/697 [==============================] - 32s 46ms/step - loss: 0.8480 - accuracy: 0.6844 - val_loss: 0.9842 - val_accuracy: 0.6331\n",
      "Epoch 9/50\n",
      "697/697 [==============================] - 32s 46ms/step - loss: 0.7965 - accuracy: 0.7027 - val_loss: 0.9896 - val_accuracy: 0.6288\n",
      "Epoch 10/50\n",
      "697/697 [==============================] - 32s 46ms/step - loss: 0.7530 - accuracy: 0.7200 - val_loss: 0.9614 - val_accuracy: 0.6421\n",
      "Epoch 11/50\n",
      "697/697 [==============================] - 32s 46ms/step - loss: 0.7158 - accuracy: 0.7355 - val_loss: 0.9399 - val_accuracy: 0.6593\n",
      "Epoch 12/50\n",
      "697/697 [==============================] - 32s 47ms/step - loss: 0.6762 - accuracy: 0.7502 - val_loss: 0.9613 - val_accuracy: 0.6503\n",
      "Epoch 13/50\n",
      "697/697 [==============================] - 32s 46ms/step - loss: 0.6251 - accuracy: 0.7706 - val_loss: 0.9906 - val_accuracy: 0.6631\n",
      "Epoch 14/50\n",
      "697/697 [==============================] - 32s 46ms/step - loss: 0.5828 - accuracy: 0.7878 - val_loss: 1.0025 - val_accuracy: 0.6668\n",
      "Epoch 15/50\n",
      "697/697 [==============================] - 32s 46ms/step - loss: 0.5482 - accuracy: 0.8001 - val_loss: 1.0196 - val_accuracy: 0.6543\n",
      "Epoch 16/50\n",
      "697/697 [==============================] - 32s 47ms/step - loss: 0.5032 - accuracy: 0.8176 - val_loss: 1.0041 - val_accuracy: 0.6604\n",
      "Epoch 17/50\n",
      "697/697 [==============================] - 32s 47ms/step - loss: 0.4688 - accuracy: 0.8336 - val_loss: 1.0992 - val_accuracy: 0.6541\n",
      "Epoch 18/50\n",
      "697/697 [==============================] - 32s 46ms/step - loss: 0.4331 - accuracy: 0.8477 - val_loss: 1.1254 - val_accuracy: 0.6694\n",
      "Epoch 19/50\n",
      "697/697 [==============================] - 32s 46ms/step - loss: 0.4007 - accuracy: 0.8611 - val_loss: 1.1458 - val_accuracy: 0.6609\n",
      "Epoch 20/50\n",
      "697/697 [==============================] - 32s 47ms/step - loss: 0.3689 - accuracy: 0.8709 - val_loss: 1.1599 - val_accuracy: 0.6609\n",
      "Epoch 21/50\n",
      "697/697 [==============================] - 32s 47ms/step - loss: 0.3445 - accuracy: 0.8797 - val_loss: 1.2337 - val_accuracy: 0.6606\n",
      "Epoch 22/50\n",
      "697/697 [==============================] - 32s 46ms/step - loss: 0.3225 - accuracy: 0.8872 - val_loss: 1.1966 - val_accuracy: 0.6598\n",
      "Epoch 23/50\n",
      "697/697 [==============================] - 33s 47ms/step - loss: 0.2874 - accuracy: 0.8982 - val_loss: 1.2863 - val_accuracy: 0.6537\n",
      "Epoch 24/50\n",
      "697/697 [==============================] - 32s 46ms/step - loss: 0.2792 - accuracy: 0.9036 - val_loss: 1.3295 - val_accuracy: 0.6620\n",
      "Epoch 25/50\n",
      "697/697 [==============================] - 32s 46ms/step - loss: 0.2627 - accuracy: 0.9095 - val_loss: 1.3231 - val_accuracy: 0.6561\n",
      "Epoch 26/50\n",
      "697/697 [==============================] - 32s 46ms/step - loss: 0.2471 - accuracy: 0.9137 - val_loss: 1.3891 - val_accuracy: 0.6593\n",
      "Epoch 27/50\n",
      "697/697 [==============================] - 32s 46ms/step - loss: 0.2289 - accuracy: 0.9193 - val_loss: 1.3828 - val_accuracy: 0.6636\n",
      "Epoch 28/50\n",
      "697/697 [==============================] - 32s 46ms/step - loss: 0.2164 - accuracy: 0.9258 - val_loss: 1.4160 - val_accuracy: 0.6647\n",
      "Epoch 29/50\n",
      "697/697 [==============================] - 32s 46ms/step - loss: 0.2128 - accuracy: 0.9267 - val_loss: 1.4220 - val_accuracy: 0.6584\n",
      "Epoch 30/50\n",
      "697/697 [==============================] - 32s 46ms/step - loss: 0.1969 - accuracy: 0.9319 - val_loss: 1.4102 - val_accuracy: 0.6645\n",
      "Epoch 31/50\n",
      "697/697 [==============================] - 32s 46ms/step - loss: 0.1954 - accuracy: 0.9329 - val_loss: 1.4394 - val_accuracy: 0.6616\n",
      "Epoch 32/50\n",
      "697/697 [==============================] - 32s 47ms/step - loss: 0.1817 - accuracy: 0.9389 - val_loss: 1.4586 - val_accuracy: 0.6575\n",
      "Epoch 33/50\n",
      "697/697 [==============================] - 32s 46ms/step - loss: 0.1729 - accuracy: 0.9393 - val_loss: 1.4946 - val_accuracy: 0.6620\n",
      "Epoch 34/50\n",
      "697/697 [==============================] - 32s 46ms/step - loss: 0.1659 - accuracy: 0.9444 - val_loss: 1.5441 - val_accuracy: 0.6572\n",
      "Epoch 35/50\n",
      "697/697 [==============================] - 32s 46ms/step - loss: 0.1704 - accuracy: 0.9410 - val_loss: 1.5594 - val_accuracy: 0.6588\n",
      "Epoch 36/50\n",
      "697/697 [==============================] - 32s 46ms/step - loss: 0.1489 - accuracy: 0.9470 - val_loss: 1.5925 - val_accuracy: 0.6530\n",
      "Epoch 37/50\n",
      "697/697 [==============================] - 32s 46ms/step - loss: 0.1543 - accuracy: 0.9459 - val_loss: 1.4905 - val_accuracy: 0.6595\n",
      "Epoch 38/50\n",
      "697/697 [==============================] - 32s 46ms/step - loss: 0.1386 - accuracy: 0.9521 - val_loss: 1.6583 - val_accuracy: 0.6627\n",
      "Epoch 39/50\n",
      "697/697 [==============================] - 32s 46ms/step - loss: 0.1480 - accuracy: 0.9477 - val_loss: 1.5906 - val_accuracy: 0.6588\n",
      "Epoch 40/50\n",
      "697/697 [==============================] - 32s 46ms/step - loss: 0.1367 - accuracy: 0.9543 - val_loss: 1.5918 - val_accuracy: 0.6507\n",
      "Epoch 41/50\n",
      "697/697 [==============================] - 32s 46ms/step - loss: 0.1352 - accuracy: 0.9547 - val_loss: 1.5760 - val_accuracy: 0.6611\n",
      "Epoch 42/50\n",
      "697/697 [==============================] - 32s 46ms/step - loss: 0.1335 - accuracy: 0.9554 - val_loss: 1.5757 - val_accuracy: 0.6611\n",
      "Epoch 43/50\n",
      "697/697 [==============================] - 32s 46ms/step - loss: 0.1280 - accuracy: 0.9566 - val_loss: 1.6617 - val_accuracy: 0.6645\n",
      "Epoch 44/50\n",
      "697/697 [==============================] - 32s 46ms/step - loss: 0.1248 - accuracy: 0.9578 - val_loss: 1.6916 - val_accuracy: 0.6618\n",
      "Epoch 45/50\n",
      "697/697 [==============================] - 32s 46ms/step - loss: 0.1203 - accuracy: 0.9585 - val_loss: 1.7029 - val_accuracy: 0.6573\n",
      "Epoch 46/50\n",
      "697/697 [==============================] - 32s 46ms/step - loss: 0.1258 - accuracy: 0.9569 - val_loss: 1.6205 - val_accuracy: 0.6602\n",
      "Epoch 47/50\n",
      "697/697 [==============================] - 32s 46ms/step - loss: 0.1154 - accuracy: 0.9615 - val_loss: 1.7079 - val_accuracy: 0.6638\n",
      "Epoch 48/50\n",
      "697/697 [==============================] - 32s 46ms/step - loss: 0.1225 - accuracy: 0.9582 - val_loss: 1.5438 - val_accuracy: 0.6636\n",
      "Epoch 49/50\n",
      "697/697 [==============================] - 32s 46ms/step - loss: 0.1142 - accuracy: 0.9609 - val_loss: 1.6253 - val_accuracy: 0.6611\n",
      "Epoch 50/50\n",
      "697/697 [==============================] - 32s 46ms/step - loss: 0.1109 - accuracy: 0.9615 - val_loss: 1.7383 - val_accuracy: 0.6647\n"
     ]
    },
    {
     "data": {
      "image/png": "[encoded data removed]",
      "text/plain": [
       "<Figure size 432x288 with 1 Axes>"
      ]
     },
     "metadata": {
      "needs_background": "light"
     },
     "output_type": "display_data"
    }
   ],
   "source": [
    "history = model.fit(datagen.flow(xtrain, ytrain, batch_size=32),\n",
    "               epochs=50,\n",
    "               validation_data=(xtest, ytest))\n",
    "def plot_hist(hist):\n",
    "    plt.plot(hist.history[\"accuracy\"])\n",
    "    plt.plot(hist.history[\"val_accuracy\"])\n",
    "    plt.title(\"model accuracy\")\n",
    "    plt.ylabel(\"accuracy\")\n",
    "    plt.xlabel(\"epoch\")\n",
    "    plt.legend([\"train\", \"validation\"], loc=\"upper left\")\n",
    "    plt.show()\n",
    "plot_hist(history)"
   ]
  },
  {
   "cell_type": "code",
   "execution_count": 9,
   "id": "2dc1e83a",
   "metadata": {},
   "outputs": [
    {
     "name": "stdout",
     "output_type": "stream",
     "text": [
      "175/175 [==============================] - 2s 13ms/step - loss: 1.7526 - accuracy: 0.2614\n"
     ]
    },
    {
     "data": {
      "text/plain": [
       "[1.7526183128356934, 0.26139217615127563]"
      ]
     },
     "execution_count": 9,
     "metadata": {},
     "output_type": "execute_result"
    }
   ],
   "source": [
    "model.evaluate(xtest, ytest, batch_size = 32)"
   ]
  },
  {
   "cell_type": "code",
   "execution_count": 10,
   "id": "5caced39",
   "metadata": {},
   "outputs": [
    {
     "name": "stdout",
     "output_type": "stream",
     "text": [
      "697/697 [==============================] - 9s 13ms/step - loss: 1.7580 - accuracy: 0.2550\n"
     ]
    },
    {
     "data": {
      "text/plain": [
       "[1.7579690217971802, 0.2549564838409424]"
      ]
     },
     "execution_count": 10,
     "metadata": {},
     "output_type": "execute_result"
    }
   ],
   "source": [
    "model.evaluate(xtrain, ytrain, batch_size = 32)"
   ]
  },
  {
   "cell_type": "code",
   "execution_count": 12,
   "id": "0ccbcb9d",
   "metadata": {},
   "outputs": [],
   "source": [
    "model.save('VGG16_2.h5')"
   ]
  },
  {
   "cell_type": "code",
   "execution_count": null,
   "id": "f37951d8",
   "metadata": {},
   "outputs": [],
   "source": []
  }
 ],
 "metadata": {
  "kernelspec": {
   "display_name": "Python 3",
   "language": "python",
   "name": "python3"
  },
  "language_info": {
   "codemirror_mode": {
    "name": "ipython",
    "version": 3
   },
   "file_extension": ".py",
   "mimetype": "text/x-python",
   "name": "python",
   "nbconvert_exporter": "python",
   "pygments_lexer": "ipython3",
   "version": "3.8.8"
  }
 },
 "nbformat": 4,
 "nbformat_minor": 5
}
