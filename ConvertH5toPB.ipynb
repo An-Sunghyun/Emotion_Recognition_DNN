{
 "cells": [
  {
   "cell_type": "code",
   "execution_count": 1,
   "id": "9d824c51",
   "metadata": {},
   "outputs": [
    {
     "name": "stdout",
     "output_type": "stream",
     "text": [
      "INFO:tensorflow:Assets written to: ./pb\\assets\n"
     ]
    }
   ],
   "source": [
    "from tensorflow import keras\n",
    "model = keras.models.load_model('Densenet121_revised2.h5', compile=False)\n",
    "\n",
    "export_path = './pb'\n",
    "model.save(export_path, save_format=\"tf\")"
   ]
  },
  {
   "cell_type": "code",
   "execution_count": null,
   "id": "1cc10754",
   "metadata": {},
   "outputs": [],
   "source": [
    "#  model = keras.models.load_model('#######', compile=False)\n",
    "#  ######에는 .h5파일이 있는곳의 directory를 쓴다.\n",
    "\n",
    "# export_path = '@@@'\n",
    "# @@@에는 변환된 .pb파일이 있게될 directory를 쓴다. (.pb파일을 어디에 저장할것인가)"
   ]
  }
 ],
 "metadata": {
  "kernelspec": {
   "display_name": "Python 3",
   "language": "python",
   "name": "python3"
  },
  "language_info": {
   "codemirror_mode": {
    "name": "ipython",
    "version": 3
   },
   "file_extension": ".py",
   "mimetype": "text/x-python",
   "name": "python",
   "nbconvert_exporter": "python",
   "pygments_lexer": "ipython3",
   "version": "3.8.8"
  }
 },
 "nbformat": 4,
 "nbformat_minor": 5
}
